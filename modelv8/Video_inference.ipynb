{
  "cells": [
    {
      "cell_type": "markdown",
      "metadata": {
        "id": "INzAGQMw3YY0"
      },
      "source": [
        "# Roboflow Video Inference\n",
        "\n",
        "This colab notebook reflects [the Roboflow video inference repo](https://github.com/roboflow-ai/video-inference) but utilizes the pip package for inference calls instead of `CURL` commands.\n",
        "\n",
        "Documentation for the Roboflow pip package can be found [via this link](https://docs.roboflow.com/python).\n",
        "\n",
        "Video inference uses the following steps:\n",
        "- break down videos to images using FFMPEG\n",
        "- perform inference on each image and render a bounding box for each detected image\n",
        "- stich images back together into a video format"
      ]
    },
    {
      "cell_type": "markdown",
      "metadata": {
        "id": "gT6dn6Gl7WpI"
      },
      "source": [
        "# FFMPEG Set Up"
      ]
    },
    {
      "cell_type": "markdown",
      "metadata": {
        "id": "MFF8tkyK70_D"
      },
      "source": [
        "### FFMPEG Installation"
      ]
    },
    {
      "cell_type": "code",
      "execution_count": null,
      "metadata": {
        "colab": {
          "base_uri": "https://localhost:8080/",
          "height": 74
        },
        "id": "0c-2lgoHDiRp",
        "outputId": "a5a79839-08c3-4ab6-c1ff-9492af497f35"
      },
      "outputs": [
        {
          "output_type": "stream",
          "name": "stdout",
          "text": [
            "Installation finished.\n"
          ]
        }
      ],
      "source": [
        "from IPython.display import clear_output\n",
        "import os, urllib.request\n",
        "HOME = os.path.expanduser(\"~\")\n",
        "pathDoneCMD = f'{HOME}/doneCMD.sh'\n",
        "if not os.path.exists(f\"{HOME}/.ipython/ttmg.py\"):\n",
        "    hCode = \"https://raw.githubusercontent.com/yunooooo/gcct/master/res/ttmg.py\"\n",
        "    urllib.request.urlretrieve(hCode, f\"{HOME}/.ipython/ttmg.py\")\n",
        "\n",
        "from ttmg import (\n",
        "    loadingAn,\n",
        "    textAn,\n",
        ")\n",
        "\n",
        "loadingAn(name=\"lds\")\n",
        "textAn(\"Installing Dependencies...\", ty='twg')\n",
        "os.system('pip install git+git://github.com/AWConant/jikanpy.git')\n",
        "os.system('add-apt-repository -y ppa:jonathonf/ffmpeg-4')\n",
        "os.system('apt-get update')\n",
        "os.system('apt install mediainfo')\n",
        "os.system('apt-get install ffmpeg')\n",
        "clear_output()\n",
        "print('Installation finished.')"
      ]
    },
    {
      "cell_type": "markdown",
      "metadata": {
        "id": "-vopNP4y8HXw"
      },
      "source": [
        "### FFMPEG Execution\n",
        "\n"
      ]
    },
    {
      "cell_type": "markdown",
      "source": [
        "#### Access video\n",
        "\n",
        "Upload one video at a time for now to the `videos_to_infer` directory, video globs will result in videos being stiched together.\n",
        "\n",
        "You can connect g-drive and use `cp` to copy a single file out of it or manually upload a video from your local device.\n",
        "\n",
        "Regardless, make sure it lands in the `videos_to_infer` directory."
      ],
      "metadata": {
        "id": "iReTCPV9ET_8"
      }
    },
    {
      "cell_type": "code",
      "source": [
        "%cd /content/\n",
        "!mkdir videos_to_infer\n",
        "!mkdir inferred_videos\n",
        "%cd videos_to_infer"
      ],
      "metadata": {
        "colab": {
          "base_uri": "https://localhost:8080/"
        },
        "id": "C8ASYbq3oBoU",
        "outputId": "ea742bfa-778f-4d30-e48a-b857ae56da5c"
      },
      "execution_count": null,
      "outputs": [
        {
          "output_type": "stream",
          "name": "stdout",
          "text": [
            "/content\n",
            "/content/videos_to_infer\n"
          ]
        }
      ]
    },
    {
      "cell_type": "markdown",
      "source": [
        "#### Optional: Link your Google Drive to upload files to/from Google Drive\n",
        "\n",
        "\n",
        "*   process outlined in the next 2 cells\n",
        "\n"
      ],
      "metadata": {
        "id": "I_pqrClDlEHy"
      }
    },
    {
      "cell_type": "code",
      "source": [
        "# OPTIONAL - link your g-drive to pull videos from\n",
        "from google.colab import drive\n",
        "drive.mount('/content/gdrive')"
      ],
      "metadata": {
        "id": "e15g_5kXiChj",
        "outputId": "9efcc00c-51c6-4fc8-bec5-ff9efbfbe605",
        "colab": {
          "base_uri": "https://localhost:8080/"
        }
      },
      "execution_count": null,
      "outputs": [
        {
          "output_type": "stream",
          "name": "stdout",
          "text": [
            "Mounted at /content/gdrive\n"
          ]
        }
      ]
    },
    {
      "cell_type": "code",
      "source": [
        "# OPTIONAL - copy your videos from g-drive to /content/\n",
        "!cp /content/gdrive/MyDrive/TESTDATA/IMG_2167.mov /content/videos_to_infer"
      ],
      "metadata": {
        "id": "NvBwDrfjiKgc"
      },
      "execution_count": null,
      "outputs": []
    },
    {
      "cell_type": "markdown",
      "source": [
        "#### Break down video frames into images"
      ],
      "metadata": {
        "id": "bjhxbtGXlW4t"
      }
    },
    {
      "cell_type": "code",
      "execution_count": null,
      "metadata": {
        "id": "SndB9usRtjW4"
      },
      "outputs": [],
      "source": [
        "# break video down into images - UPDATE THE PATH TO THE FILE!\n",
        "# Example: video file named 'Test.mp4'\n",
        "# (cont'd) update path to: \"/content/videos_to_infer/Test.mp4\"\n",
        "os.environ['inputFile'] = '/content/videos_to_infer/IMG_2167.mov'\n",
        "\n",
        "# fps value: the number of frames to sample per second from the video\n",
        "# higher value for fps: sample more frames\n",
        "!ffmpeg  -hide_banner -loglevel error -i \"$inputFile\" -vf fps=10 \"$inputFile_out%04d.png\""
      ]
    },
    {
      "cell_type": "markdown",
      "metadata": {
        "id": "SINB3TC84VeD"
      },
      "source": [
        "# Video Inference Section"
      ]
    },
    {
      "cell_type": "markdown",
      "source": [
        "## Roboflow PIP package installation"
      ],
      "metadata": {
        "id": "XMQROKNEzK0_"
      }
    },
    {
      "cell_type": "code",
      "execution_count": null,
      "metadata": {
        "id": "r0sUmu8M4R9H",
        "colab": {
          "base_uri": "https://localhost:8080/",
          "height": 1000
        },
        "outputId": "3130474d-2f30-4416-eb8c-01772c0b5aa1"
      },
      "outputs": [
        {
          "output_type": "stream",
          "name": "stdout",
          "text": [
            "Looking in indexes: https://pypi.org/simple, https://us-python.pkg.dev/colab-wheels/public/simple/\n",
            "Collecting roboflow\n",
            "  Downloading roboflow-1.0.9-py3-none-any.whl (56 kB)\n",
            "\u001b[?25l     \u001b[90m━━━━━━━━━━━━━━━━━━━━━━━━━━━━━━━━━━━━━━━━\u001b[0m \u001b[32m0.0/56.3 kB\u001b[0m \u001b[31m?\u001b[0m eta \u001b[36m-:--:--\u001b[0m\r\u001b[2K     \u001b[90m━━━━━━━━━━━━━━━━━━━━━━━━━━━━━━━━━━━━━━━━\u001b[0m \u001b[32m56.3/56.3 kB\u001b[0m \u001b[31m2.8 MB/s\u001b[0m eta \u001b[36m0:00:00\u001b[0m\n",
            "\u001b[?25hRequirement already satisfied: certifi==2022.12.7 in /usr/local/lib/python3.10/dist-packages (from roboflow) (2022.12.7)\n",
            "Requirement already satisfied: chardet==4.0.0 in /usr/local/lib/python3.10/dist-packages (from roboflow) (4.0.0)\n",
            "Collecting cycler==0.10.0 (from roboflow)\n",
            "  Downloading cycler-0.10.0-py2.py3-none-any.whl (6.5 kB)\n",
            "Collecting idna==2.10 (from roboflow)\n",
            "  Downloading idna-2.10-py2.py3-none-any.whl (58 kB)\n",
            "\u001b[2K     \u001b[90m━━━━━━━━━━━━━━━━━━━━━━━━━━━━━━━━━━━━━━━━\u001b[0m \u001b[32m58.8/58.8 kB\u001b[0m \u001b[31m8.2 MB/s\u001b[0m eta \u001b[36m0:00:00\u001b[0m\n",
            "\u001b[?25hRequirement already satisfied: kiwisolver>=1.3.1 in /usr/local/lib/python3.10/dist-packages (from roboflow) (1.4.4)\n",
            "Requirement already satisfied: matplotlib in /usr/local/lib/python3.10/dist-packages (from roboflow) (3.7.1)\n",
            "Requirement already satisfied: numpy>=1.18.5 in /usr/local/lib/python3.10/dist-packages (from roboflow) (1.22.4)\n",
            "Requirement already satisfied: opencv-python>=4.1.2 in /usr/local/lib/python3.10/dist-packages (from roboflow) (4.7.0.72)\n",
            "Requirement already satisfied: Pillow>=7.1.2 in /usr/local/lib/python3.10/dist-packages (from roboflow) (8.4.0)\n",
            "Collecting pyparsing==2.4.7 (from roboflow)\n",
            "  Downloading pyparsing-2.4.7-py2.py3-none-any.whl (67 kB)\n",
            "\u001b[2K     \u001b[90m━━━━━━━━━━━━━━━━━━━━━━━━━━━━━━━━━━━━━━━━\u001b[0m \u001b[32m67.8/67.8 kB\u001b[0m \u001b[31m10.2 MB/s\u001b[0m eta \u001b[36m0:00:00\u001b[0m\n",
            "\u001b[?25hRequirement already satisfied: python-dateutil in /usr/local/lib/python3.10/dist-packages (from roboflow) (2.8.2)\n",
            "Collecting python-dotenv (from roboflow)\n",
            "  Downloading python_dotenv-1.0.0-py3-none-any.whl (19 kB)\n",
            "Requirement already satisfied: requests in /usr/local/lib/python3.10/dist-packages (from roboflow) (2.27.1)\n",
            "Requirement already satisfied: six in /usr/local/lib/python3.10/dist-packages (from roboflow) (1.16.0)\n",
            "Requirement already satisfied: urllib3>=1.26.6 in /usr/local/lib/python3.10/dist-packages (from roboflow) (1.26.15)\n",
            "Collecting wget (from roboflow)\n",
            "  Downloading wget-3.2.zip (10 kB)\n",
            "  Preparing metadata (setup.py) ... \u001b[?25l\u001b[?25hdone\n",
            "Requirement already satisfied: tqdm>=4.41.0 in /usr/local/lib/python3.10/dist-packages (from roboflow) (4.65.0)\n",
            "Requirement already satisfied: PyYAML>=5.3.1 in /usr/local/lib/python3.10/dist-packages (from roboflow) (6.0)\n",
            "Collecting requests-toolbelt (from roboflow)\n",
            "  Downloading requests_toolbelt-1.0.0-py2.py3-none-any.whl (54 kB)\n",
            "\u001b[2K     \u001b[90m━━━━━━━━━━━━━━━━━━━━━━━━━━━━━━━━━━━━━━━━\u001b[0m \u001b[32m54.5/54.5 kB\u001b[0m \u001b[31m7.3 MB/s\u001b[0m eta \u001b[36m0:00:00\u001b[0m\n",
            "\u001b[?25hRequirement already satisfied: contourpy>=1.0.1 in /usr/local/lib/python3.10/dist-packages (from matplotlib->roboflow) (1.0.7)\n",
            "Requirement already satisfied: fonttools>=4.22.0 in /usr/local/lib/python3.10/dist-packages (from matplotlib->roboflow) (4.39.3)\n",
            "Requirement already satisfied: packaging>=20.0 in /usr/local/lib/python3.10/dist-packages (from matplotlib->roboflow) (23.1)\n",
            "Requirement already satisfied: charset-normalizer~=2.0.0 in /usr/local/lib/python3.10/dist-packages (from requests->roboflow) (2.0.12)\n",
            "Building wheels for collected packages: wget\n",
            "  Building wheel for wget (setup.py) ... \u001b[?25l\u001b[?25hdone\n",
            "  Created wheel for wget: filename=wget-3.2-py3-none-any.whl size=9657 sha256=a29b73aa5a89ef310555d7bc4ef384241bf7fb23cfefcd5a1261f1696ebec721\n",
            "  Stored in directory: /root/.cache/pip/wheels/8b/f1/7f/5c94f0a7a505ca1c81cd1d9208ae2064675d97582078e6c769\n",
            "Successfully built wget\n",
            "Installing collected packages: wget, python-dotenv, pyparsing, idna, cycler, requests-toolbelt, roboflow\n",
            "  Attempting uninstall: pyparsing\n",
            "    Found existing installation: pyparsing 3.0.9\n",
            "    Uninstalling pyparsing-3.0.9:\n",
            "      Successfully uninstalled pyparsing-3.0.9\n",
            "  Attempting uninstall: idna\n",
            "    Found existing installation: idna 3.4\n",
            "    Uninstalling idna-3.4:\n",
            "      Successfully uninstalled idna-3.4\n",
            "  Attempting uninstall: cycler\n",
            "    Found existing installation: cycler 0.11.0\n",
            "    Uninstalling cycler-0.11.0:\n",
            "      Successfully uninstalled cycler-0.11.0\n",
            "Successfully installed cycler-0.10.0 idna-2.10 pyparsing-2.4.7 python-dotenv-1.0.0 requests-toolbelt-1.0.0 roboflow-1.0.9 wget-3.2\n"
          ]
        },
        {
          "output_type": "display_data",
          "data": {
            "application/vnd.colab-display-data+json": {
              "pip_warning": {
                "packages": [
                  "cycler",
                  "pyparsing"
                ]
              }
            }
          },
          "metadata": {}
        }
      ],
      "source": [
        "!pip3 install roboflow"
      ]
    },
    {
      "cell_type": "markdown",
      "metadata": {
        "id": "BJ-brq5-3jiW"
      },
      "source": [
        "## Imports\n"
      ]
    },
    {
      "cell_type": "code",
      "execution_count": null,
      "metadata": {
        "id": "Ff1UPGhO3R5V"
      },
      "outputs": [],
      "source": [
        "from roboflow import Roboflow\n",
        "import json\n",
        "from time import sleep\n",
        "from PIL import Image, ImageDraw\n",
        "import io\n",
        "import base64\n",
        "import requests\n",
        "from os.path import exists\n",
        "import os, sys, re, glob"
      ]
    },
    {
      "cell_type": "markdown",
      "metadata": {
        "id": "4hQFw965339z"
      },
      "source": [
        "## Initialization\n",
        "\n",
        "- private api key found in Roboflow > YOUR_WORKSPACE > Roboflow API\n",
        "- NOTE: this is your private key, not publishable key!\n",
        "\n",
        "**Having trouble finding your API key, version number or project ID?** The [documentation's quick start section](https://docs.roboflow.com/python) demostrates how you can find these via the Roboflow platform UI.\n",
        "* [Obtaining Your API Key](https://docs.roboflow.com/rest-api#obtaining-your-api-key)"
      ]
    },
    {
      "cell_type": "code",
      "source": [
        "!pip install ultralytics==8.0.20\n",
        "\n",
        "from IPython import display\n",
        "display.clear_output()\n",
        "\n",
        "import ultralytics\n",
        "ultralytics.checks()\n",
        "\n",
        "from ultralytics import YOLO\n",
        "\n",
        "#from IPython.display import display, Image"
      ],
      "metadata": {
        "colab": {
          "base_uri": "https://localhost:8080/"
        },
        "id": "ond7FtZyvlIS",
        "outputId": "854bb711-92f8-47dc-f398-b85732555ddf"
      },
      "execution_count": null,
      "outputs": [
        {
          "output_type": "stream",
          "name": "stderr",
          "text": [
            "Ultralytics YOLOv8.0.20 🚀 Python-3.10.11 torch-2.0.1+cu118 CPU\n",
            "Setup complete ✅ (2 CPUs, 12.7 GB RAM, 23.4/107.7 GB disk)\n"
          ]
        }
      ]
    },
    {
      "cell_type": "code",
      "execution_count": null,
      "metadata": {
        "id": "v-SafC0j3izF",
        "colab": {
          "base_uri": "https://localhost:8080/"
        },
        "outputId": "794a4d0b-535b-4854-f312-69dc4094dc87"
      },
      "outputs": [
        {
          "output_type": "stream",
          "name": "stdout",
          "text": [
            "loading Roboflow workspace...\n",
            "loading Roboflow project...\n",
            "Downloading Dataset Version Zip in Pipettes-detection-11 to yolov8: 100% [58731758 / 58731758] bytes\n"
          ]
        },
        {
          "output_type": "stream",
          "name": "stderr",
          "text": [
            "Extracting Dataset Version Zip to Pipettes-detection-11 in yolov8:: 100%|██████████| 1842/1842 [00:00<00:00, 5804.22it/s]\n"
          ]
        },
        {
          "output_type": "stream",
          "name": "stdout",
          "text": [
            "{\n",
            "  \"id\": \"pipettes-detection/11\",\n",
            "  \"name\": \"Pipettes detection\",\n",
            "  \"version\": \"11\",\n",
            "  \"classes\": null,\n",
            "  \"overlap\": 30,\n",
            "  \"confidence\": 40,\n",
            "  \"stroke\": 1,\n",
            "  \"labels\": false,\n",
            "  \"format\": \"json\",\n",
            "  \"base_url\": \"https://detect.roboflow.com/\"\n",
            "}\n"
          ]
        }
      ],
      "source": [
        "# workspace code\n",
        "from roboflow import Roboflow\n",
        "import json\n",
        "\n",
        "rf = Roboflow(api_key=\"D1r3hyiOBsbn1cCkuDwd\")\n",
        "project = rf.workspace(\"pipette-detection\").project(\"pipettes-detection\")\n",
        "dataset = project.version(11).download(\"yolov8\")\n",
        "\n",
        "#rf = Roboflow(api_key=\"YOUR API KEY HERE\")\n",
        "#project = rf.workspace().project(\"YOUR PROJECT\")\n",
        "#dataset = project.version(\"YOUR VERSION\")\n",
        "\n",
        "# grab the model from that project's version\n",
        "model = project.version(11).model\n",
        "print(model)"
      ]
    },
    {
      "cell_type": "code",
      "source": [
        "# HELPER FUNCTIONS BLOCK\n",
        "from PIL import ImageDraw, ImageFont\n",
        "# ImageDraw.ImageDraw.font = ImageFont.truetype(\"Tests/fonts/FreeMono.ttf\")\n",
        "\n",
        "def draw_boxes(box, x0, y0, img, class_name, confidence):\n",
        "    # OPTIONAL - color map, change the key-values for each color to make the\n",
        "    # class output labels specific to your dataset\n",
        "    color_map = {\n",
        "        \"pipette\":\"red\",\n",
        "    }\n",
        "\n",
        "    # get position coordinates\n",
        "    bbox = ImageDraw.Draw(img) \n",
        "    #font = ImageFont.truetype(\"arial.ttf\", 15)\n",
        "\n",
        "    bbox.rectangle(box, outline=color_map[class_name], width=3)\n",
        "    bbox.multiline_text((x0 + 1, y0 + 1), class_name + \"\\n\" + str(confidence), fill='black', align='left')\n",
        "\n",
        "\n",
        "    return img\n",
        "\n",
        "def save_with_bbox_renders(img):\n",
        "    file_name = os.path.basename(img.filename)\n",
        "    img.save('/content/inferred_videos/' + file_name)\n",
        "    print(file_name)"
      ],
      "metadata": {
        "id": "F8Qo4j5cmWMw"
      },
      "execution_count": null,
      "outputs": []
    },
    {
      "cell_type": "markdown",
      "source": [
        "## Execution"
      ],
      "metadata": {
        "id": "2CkY3Z7UzWnz"
      }
    },
    {
      "cell_type": "code",
      "execution_count": null,
      "metadata": {
        "id": "v613kCJOUcor",
        "colab": {
          "base_uri": "https://localhost:8080/"
        },
        "outputId": "0889991a-41ed-4314-e280-8969d57cb33d"
      },
      "outputs": [
        {
          "output_type": "stream",
          "name": "stdout",
          "text": [
            "/content\n",
            "['/content/0001.png', '/content/0002.png', '/content/0003.png', '/content/0004.png', '/content/0005.png', '/content/0006.png', '/content/0007.png', '/content/0008.png', '/content/0009.png', '/content/0010.png', '/content/0011.png', '/content/0012.png', '/content/0013.png', '/content/0014.png', '/content/0015.png', '/content/0016.png', '/content/0017.png', '/content/0018.png', '/content/0019.png', '/content/0020.png', '/content/0021.png', '/content/0022.png', '/content/0023.png', '/content/0024.png', '/content/0025.png', '/content/0026.png', '/content/0027.png', '/content/0028.png', '/content/0029.png', '/content/0030.png', '/content/0031.png', '/content/0032.png', '/content/0033.png', '/content/0034.png', '/content/0035.png', '/content/0036.png', '/content/0037.png', '/content/0038.png', '/content/0039.png', '/content/0040.png', '/content/0041.png', '/content/0042.png', '/content/0043.png', '/content/0044.png', '/content/0045.png', '/content/0046.png', '/content/0047.png', '/content/0048.png', '/content/0049.png', '/content/0050.png', '/content/0051.png', '/content/0052.png', '/content/0053.png', '/content/0054.png', '/content/0055.png', '/content/0056.png', '/content/0057.png', '/content/0058.png', '/content/0059.png', '/content/0060.png', '/content/0061.png', '/content/0062.png', '/content/0063.png', '/content/0064.png', '/content/0065.png', '/content/0066.png', '/content/0067.png', '/content/0068.png', '/content/0069.png', '/content/0070.png', '/content/0071.png', '/content/0072.png', '/content/0073.png', '/content/0074.png', '/content/0075.png', '/content/0076.png', '/content/0077.png', '/content/0078.png', '/content/0079.png', '/content/0080.png', '/content/0081.png', '/content/0082.png', '/content/0083.png', '/content/0084.png', '/content/0085.png', '/content/0086.png', '/content/0087.png', '/content/0088.png', '/content/0089.png', '/content/0090.png', '/content/0091.png', '/content/0092.png', '/content/0093.png', '/content/0094.png', '/content/0095.png', '/content/0096.png', '/content/0097.png', '/content/0098.png', '/content/0099.png', '/content/0100.png', '/content/0101.png', '/content/0102.png', '/content/0103.png', '/content/0104.png', '/content/0105.png', '/content/0106.png', '/content/0107.png', '/content/0108.png', '/content/0109.png', '/content/0110.png', '/content/0111.png', '/content/0112.png', '/content/0113.png', '/content/0114.png', '/content/0115.png', '/content/0116.png', '/content/0117.png', '/content/0118.png', '/content/0119.png', '/content/0120.png', '/content/0121.png', '/content/0122.png', '/content/0123.png', '/content/0124.png', '/content/0125.png', '/content/0126.png', '/content/0127.png', '/content/0128.png', '/content/0129.png', '/content/0130.png', '/content/0131.png', '/content/0132.png', '/content/0133.png', '/content/0134.png', '/content/0135.png', '/content/0136.png', '/content/0137.png', '/content/0138.png', '/content/0139.png', '/content/0140.png', '/content/0141.png', '/content/0142.png', '/content/0143.png', '/content/0144.png', '/content/0145.png', '/content/0146.png', '/content/0147.png', '/content/0148.png', '/content/0149.png', '/content/0150.png', '/content/0151.png', '/content/0152.png', '/content/0153.png', '/content/0154.png', '/content/0155.png', '/content/0156.png', '/content/0157.png', '/content/0158.png', '/content/0159.png', '/content/0160.png', '/content/0161.png', '/content/0162.png', '/content/0163.png', '/content/0164.png', '/content/0165.png', '/content/0166.png', '/content/0167.png', '/content/0168.png', '/content/0169.png', '/content/0170.png', '/content/0171.png', '/content/0172.png', '/content/0173.png', '/content/0174.png', '/content/0175.png', '/content/0176.png', '/content/0177.png', '/content/0178.png', '/content/0179.png', '/content/0180.png', '/content/0181.png', '/content/0182.png', '/content/0183.png', '/content/0184.png', '/content/0185.png', '/content/0186.png', '/content/0187.png', '/content/0188.png', '/content/0189.png', '/content/0190.png', '/content/0191.png', '/content/0192.png', '/content/0193.png', '/content/0194.png', '/content/0195.png', '/content/0196.png', '/content/0197.png', '/content/0198.png', '/content/0199.png', '/content/0200.png', '/content/0201.png', '/content/0202.png', '/content/0203.png', '/content/0204.png', '/content/0205.png', '/content/0206.png', '/content/0207.png', '/content/0208.png', '/content/0209.png', '/content/0210.png', '/content/0211.png', '/content/0212.png', '/content/0213.png', '/content/0214.png', '/content/0215.png', '/content/0216.png', '/content/0217.png', '/content/0218.png', '/content/0219.png', '/content/0220.png', '/content/0221.png', '/content/0222.png', '/content/0223.png', '/content/0224.png', '/content/0225.png', '/content/0226.png', '/content/0227.png', '/content/0228.png', '/content/0229.png', '/content/0230.png']\n",
            "[{'x': 219, 'y': 456, 'width': 101, 'height': 489, 'confidence': 0.9244234561920166, 'class': 'pipette', 'image_path': '/content/0001.png', 'prediction_type': 'ObjectDetectionModel'}, {'x': 236, 'y': 108, 'width': 69, 'height': 113, 'confidence': 0.6774235963821411, 'class': 'pipette', 'image_path': '/content/0001.png', 'prediction_type': 'ObjectDetectionModel'}]\n",
            "0001.png\n",
            "[{'x': 220, 'y': 455, 'width': 101, 'height': 487, 'confidence': 0.926892876625061, 'class': 'pipette', 'image_path': '/content/0002.png', 'prediction_type': 'ObjectDetectionModel'}, {'x': 238, 'y': 108, 'width': 68, 'height': 113, 'confidence': 0.7394883036613464, 'class': 'pipette', 'image_path': '/content/0002.png', 'prediction_type': 'ObjectDetectionModel'}]\n",
            "0002.png\n",
            "[{'x': 219, 'y': 455, 'width': 102, 'height': 487, 'confidence': 0.9255738258361816, 'class': 'pipette', 'image_path': '/content/0003.png', 'prediction_type': 'ObjectDetectionModel'}, {'x': 238, 'y': 108, 'width': 68, 'height': 113, 'confidence': 0.7534379363059998, 'class': 'pipette', 'image_path': '/content/0003.png', 'prediction_type': 'ObjectDetectionModel'}]\n",
            "0003.png\n",
            "[{'x': 218, 'y': 452, 'width': 102, 'height': 479, 'confidence': 0.9221247434616089, 'class': 'pipette', 'image_path': '/content/0004.png', 'prediction_type': 'ObjectDetectionModel'}, {'x': 237, 'y': 109, 'width': 69, 'height': 114, 'confidence': 0.6790114641189575, 'class': 'pipette', 'image_path': '/content/0004.png', 'prediction_type': 'ObjectDetectionModel'}]\n",
            "0004.png\n",
            "[{'x': 216, 'y': 447, 'width': 102, 'height': 464, 'confidence': 0.8865935206413269, 'class': 'pipette', 'image_path': '/content/0005.png', 'prediction_type': 'ObjectDetectionModel'}, {'x': 238, 'y': 113, 'width': 69, 'height': 113, 'confidence': 0.7968999743461609, 'class': 'pipette', 'image_path': '/content/0005.png', 'prediction_type': 'ObjectDetectionModel'}]\n",
            "0005.png\n",
            "[{'x': 241, 'y': 378, 'width': 145, 'height': 636, 'confidence': 0.9237427711486816, 'class': 'pipette', 'image_path': '/content/0006.png', 'prediction_type': 'ObjectDetectionModel'}]\n",
            "0006.png\n",
            "[{'x': 245, 'y': 387, 'width': 150, 'height': 649, 'confidence': 0.9388834238052368, 'class': 'pipette', 'image_path': '/content/0007.png', 'prediction_type': 'ObjectDetectionModel'}]\n",
            "0007.png\n",
            "[{'x': 250, 'y': 382, 'width': 146, 'height': 639, 'confidence': 0.9315107464790344, 'class': 'pipette', 'image_path': '/content/0008.png', 'prediction_type': 'ObjectDetectionModel'}]\n",
            "0008.png\n",
            "[{'x': 254, 'y': 379, 'width': 141, 'height': 633, 'confidence': 0.9405556917190552, 'class': 'pipette', 'image_path': '/content/0009.png', 'prediction_type': 'ObjectDetectionModel'}]\n",
            "0009.png\n",
            "[{'x': 250, 'y': 385, 'width': 129, 'height': 645, 'confidence': 0.9261449575424194, 'class': 'pipette', 'image_path': '/content/0010.png', 'prediction_type': 'ObjectDetectionModel'}]\n",
            "0010.png\n",
            "[{'x': 243, 'y': 385, 'width': 117, 'height': 635, 'confidence': 0.9197546243667603, 'class': 'pipette', 'image_path': '/content/0011.png', 'prediction_type': 'ObjectDetectionModel'}]\n",
            "0011.png\n",
            "[{'x': 239, 'y': 392, 'width': 110, 'height': 642, 'confidence': 0.9287688732147217, 'class': 'pipette', 'image_path': '/content/0012.png', 'prediction_type': 'ObjectDetectionModel'}]\n",
            "0012.png\n",
            "[{'x': 243, 'y': 394, 'width': 110, 'height': 656, 'confidence': 0.9375673532485962, 'class': 'pipette', 'image_path': '/content/0013.png', 'prediction_type': 'ObjectDetectionModel'}]\n",
            "0013.png\n",
            "[{'x': 246, 'y': 395, 'width': 111, 'height': 668, 'confidence': 0.9300223588943481, 'class': 'pipette', 'image_path': '/content/0014.png', 'prediction_type': 'ObjectDetectionModel'}]\n",
            "0014.png\n",
            "[{'x': 247, 'y': 394, 'width': 111, 'height': 665, 'confidence': 0.9176197648048401, 'class': 'pipette', 'image_path': '/content/0015.png', 'prediction_type': 'ObjectDetectionModel'}]\n",
            "0015.png\n",
            "[{'x': 231, 'y': 488, 'width': 75, 'height': 473, 'confidence': 0.9046421051025391, 'class': 'pipette', 'image_path': '/content/0016.png', 'prediction_type': 'ObjectDetectionModel'}, {'x': 250, 'y': 143, 'width': 96, 'height': 150, 'confidence': 0.8992552161216736, 'class': 'pipette', 'image_path': '/content/0016.png', 'prediction_type': 'ObjectDetectionModel'}]\n",
            "0016.png\n",
            "[{'x': 228, 'y': 501, 'width': 72, 'height': 451, 'confidence': 0.9081614017486572, 'class': 'pipette', 'image_path': '/content/0017.png', 'prediction_type': 'ObjectDetectionModel'}, {'x': 243, 'y': 150, 'width': 89, 'height': 154, 'confidence': 0.8407115936279297, 'class': 'pipette', 'image_path': '/content/0017.png', 'prediction_type': 'ObjectDetectionModel'}]\n",
            "0017.png\n",
            "[{'x': 229, 'y': 505, 'width': 70, 'height': 439, 'confidence': 0.923529863357544, 'class': 'pipette', 'image_path': '/content/0018.png', 'prediction_type': 'ObjectDetectionModel'}, {'x': 244, 'y': 159, 'width': 87, 'height': 161, 'confidence': 0.8957918882369995, 'class': 'pipette', 'image_path': '/content/0018.png', 'prediction_type': 'ObjectDetectionModel'}]\n",
            "0018.png\n",
            "[{'x': 247, 'y': 162, 'width': 86, 'height': 159, 'confidence': 0.9276502132415771, 'class': 'pipette', 'image_path': '/content/0019.png', 'prediction_type': 'ObjectDetectionModel'}, {'x': 231, 'y': 508, 'width': 72, 'height': 428, 'confidence': 0.9254868030548096, 'class': 'pipette', 'image_path': '/content/0019.png', 'prediction_type': 'ObjectDetectionModel'}]\n",
            "0019.png\n",
            "[{'x': 252, 'y': 165, 'width': 88, 'height': 154, 'confidence': 0.9229587316513062, 'class': 'pipette', 'image_path': '/content/0020.png', 'prediction_type': 'ObjectDetectionModel'}, {'x': 234, 'y': 505, 'width': 74, 'height': 420, 'confidence': 0.9024813175201416, 'class': 'pipette', 'image_path': '/content/0020.png', 'prediction_type': 'ObjectDetectionModel'}]\n",
            "0020.png\n",
            "[{'x': 240, 'y': 491, 'width': 61, 'height': 403, 'confidence': 0.9319202303886414, 'class': 'pipette', 'image_path': '/content/0021.png', 'prediction_type': 'ObjectDetectionModel'}, {'x': 250, 'y': 165, 'width': 85, 'height': 151, 'confidence': 0.9187289476394653, 'class': 'pipette', 'image_path': '/content/0021.png', 'prediction_type': 'ObjectDetectionModel'}]\n",
            "0021.png\n",
            "[{'x': 238, 'y': 477, 'width': 62, 'height': 387, 'confidence': 0.9274190664291382, 'class': 'pipette', 'image_path': '/content/0022.png', 'prediction_type': 'ObjectDetectionModel'}, {'x': 237, 'y': 163, 'width': 86, 'height': 153, 'confidence': 0.9110431671142578, 'class': 'pipette', 'image_path': '/content/0022.png', 'prediction_type': 'ObjectDetectionModel'}]\n",
            "0022.png\n",
            "[{'x': 240, 'y': 470, 'width': 71, 'height': 387, 'confidence': 0.93991619348526, 'class': 'pipette', 'image_path': '/content/0023.png', 'prediction_type': 'ObjectDetectionModel'}, {'x': 224, 'y': 157, 'width': 91, 'height': 153, 'confidence': 0.9056461453437805, 'class': 'pipette', 'image_path': '/content/0023.png', 'prediction_type': 'ObjectDetectionModel'}]\n",
            "0023.png\n",
            "[{'x': 258, 'y': 469, 'width': 84, 'height': 384, 'confidence': 0.9430802464485168, 'class': 'pipette', 'image_path': '/content/0024.png', 'prediction_type': 'ObjectDetectionModel'}, {'x': 226, 'y': 159, 'width': 90, 'height': 158, 'confidence': 0.9339043498039246, 'class': 'pipette', 'image_path': '/content/0024.png', 'prediction_type': 'ObjectDetectionModel'}]\n",
            "0024.png\n",
            "[{'x': 256, 'y': 471, 'width': 63, 'height': 376, 'confidence': 0.9357895851135254, 'class': 'pipette', 'image_path': '/content/0025.png', 'prediction_type': 'ObjectDetectionModel'}, {'x': 241, 'y': 164, 'width': 81, 'height': 155, 'confidence': 0.9304895997047424, 'class': 'pipette', 'image_path': '/content/0025.png', 'prediction_type': 'ObjectDetectionModel'}]\n",
            "0025.png\n",
            "[{'x': 253, 'y': 476, 'width': 60, 'height': 375, 'confidence': 0.9300141930580139, 'class': 'pipette', 'image_path': '/content/0026.png', 'prediction_type': 'ObjectDetectionModel'}, {'x': 245, 'y': 167, 'width': 76, 'height': 155, 'confidence': 0.9256544709205627, 'class': 'pipette', 'image_path': '/content/0026.png', 'prediction_type': 'ObjectDetectionModel'}]\n",
            "0026.png\n",
            "[{'x': 249, 'y': 478, 'width': 60, 'height': 384, 'confidence': 0.9379217624664307, 'class': 'pipette', 'image_path': '/content/0027.png', 'prediction_type': 'ObjectDetectionModel'}, {'x': 244, 'y': 165, 'width': 75, 'height': 153, 'confidence': 0.9312818646430969, 'class': 'pipette', 'image_path': '/content/0027.png', 'prediction_type': 'ObjectDetectionModel'}]\n",
            "0027.png\n",
            "[{'x': 240, 'y': 163, 'width': 76, 'height': 151, 'confidence': 0.9322100877761841, 'class': 'pipette', 'image_path': '/content/0028.png', 'prediction_type': 'ObjectDetectionModel'}, {'x': 246, 'y': 479, 'width': 58, 'height': 392, 'confidence': 0.9268624782562256, 'class': 'pipette', 'image_path': '/content/0028.png', 'prediction_type': 'ObjectDetectionModel'}]\n",
            "0028.png\n",
            "[{'x': 240, 'y': 473, 'width': 59, 'height': 392, 'confidence': 0.9418201446533203, 'class': 'pipette', 'image_path': '/content/0029.png', 'prediction_type': 'ObjectDetectionModel'}, {'x': 235, 'y': 161, 'width': 79, 'height': 149, 'confidence': 0.9049099683761597, 'class': 'pipette', 'image_path': '/content/0029.png', 'prediction_type': 'ObjectDetectionModel'}]\n",
            "0029.png\n",
            "[{'x': 238, 'y': 467, 'width': 62, 'height': 407, 'confidence': 0.9290481805801392, 'class': 'pipette', 'image_path': '/content/0030.png', 'prediction_type': 'ObjectDetectionModel'}, {'x': 228, 'y': 163, 'width': 81, 'height': 147, 'confidence': 0.8970116972923279, 'class': 'pipette', 'image_path': '/content/0030.png', 'prediction_type': 'ObjectDetectionModel'}]\n",
            "0030.png\n",
            "[{'x': 228, 'y': 384, 'width': 91, 'height': 579, 'confidence': 0.9085143804550171, 'class': 'pipette', 'image_path': '/content/0031.png', 'prediction_type': 'ObjectDetectionModel'}]\n",
            "0031.png\n",
            "[{'x': 222, 'y': 406, 'width': 101, 'height': 579, 'confidence': 0.8277934789657593, 'class': 'pipette', 'image_path': '/content/0032.png', 'prediction_type': 'ObjectDetectionModel'}]\n",
            "0032.png\n",
            "[{'x': 222, 'y': 396, 'width': 104, 'height': 599, 'confidence': 0.926037073135376, 'class': 'pipette', 'image_path': '/content/0033.png', 'prediction_type': 'ObjectDetectionModel'}]\n",
            "0033.png\n",
            "[{'x': 225, 'y': 400, 'width': 114, 'height': 607, 'confidence': 0.929497241973877, 'class': 'pipette', 'image_path': '/content/0034.png', 'prediction_type': 'ObjectDetectionModel'}]\n",
            "0034.png\n",
            "[{'x': 224, 'y': 404, 'width': 118, 'height': 616, 'confidence': 0.935258686542511, 'class': 'pipette', 'image_path': '/content/0035.png', 'prediction_type': 'ObjectDetectionModel'}]\n",
            "0035.png\n",
            "[{'x': 222, 'y': 404, 'width': 121, 'height': 620, 'confidence': 0.9368027448654175, 'class': 'pipette', 'image_path': '/content/0036.png', 'prediction_type': 'ObjectDetectionModel'}]\n",
            "0036.png\n",
            "[{'x': 222, 'y': 405, 'width': 128, 'height': 627, 'confidence': 0.9396599531173706, 'class': 'pipette', 'image_path': '/content/0037.png', 'prediction_type': 'ObjectDetectionModel'}]\n",
            "0037.png\n",
            "[{'x': 224, 'y': 406, 'width': 132, 'height': 629, 'confidence': 0.9245508909225464, 'class': 'pipette', 'image_path': '/content/0038.png', 'prediction_type': 'ObjectDetectionModel'}]\n",
            "0038.png\n",
            "[{'x': 226, 'y': 416, 'width': 126, 'height': 641, 'confidence': 0.9349687099456787, 'class': 'pipette', 'image_path': '/content/0039.png', 'prediction_type': 'ObjectDetectionModel'}]\n",
            "0039.png\n",
            "[{'x': 225, 'y': 414, 'width': 129, 'height': 640, 'confidence': 0.9351904392242432, 'class': 'pipette', 'image_path': '/content/0040.png', 'prediction_type': 'ObjectDetectionModel'}]\n",
            "0040.png\n",
            "[{'x': 223, 'y': 417, 'width': 129, 'height': 648, 'confidence': 0.9287346601486206, 'class': 'pipette', 'image_path': '/content/0041.png', 'prediction_type': 'ObjectDetectionModel'}]\n",
            "0041.png\n",
            "[{'x': 224, 'y': 432, 'width': 132, 'height': 660, 'confidence': 0.932197093963623, 'class': 'pipette', 'image_path': '/content/0042.png', 'prediction_type': 'ObjectDetectionModel'}]\n",
            "0042.png\n",
            "[{'x': 224, 'y': 445, 'width': 131, 'height': 654, 'confidence': 0.9471977949142456, 'class': 'pipette', 'image_path': '/content/0043.png', 'prediction_type': 'ObjectDetectionModel'}]\n",
            "0043.png\n",
            "[{'x': 223, 'y': 459, 'width': 129, 'height': 652, 'confidence': 0.9340263605117798, 'class': 'pipette', 'image_path': '/content/0044.png', 'prediction_type': 'ObjectDetectionModel'}]\n",
            "0044.png\n",
            "[{'x': 223, 'y': 474, 'width': 131, 'height': 650, 'confidence': 0.9429826140403748, 'class': 'pipette', 'image_path': '/content/0045.png', 'prediction_type': 'ObjectDetectionModel'}]\n",
            "0045.png\n",
            "[{'x': 223, 'y': 486, 'width': 134, 'height': 635, 'confidence': 0.9506135582923889, 'class': 'pipette', 'image_path': '/content/0046.png', 'prediction_type': 'ObjectDetectionModel'}]\n",
            "0046.png\n",
            "[{'x': 225, 'y': 487, 'width': 141, 'height': 613, 'confidence': 0.9332060813903809, 'class': 'pipette', 'image_path': '/content/0047.png', 'prediction_type': 'ObjectDetectionModel'}]\n",
            "0047.png\n",
            "[{'x': 240, 'y': 487, 'width': 136, 'height': 583, 'confidence': 0.9454598426818848, 'class': 'pipette', 'image_path': '/content/0048.png', 'prediction_type': 'ObjectDetectionModel'}]\n",
            "0048.png\n",
            "[{'x': 240, 'y': 480, 'width': 152, 'height': 551, 'confidence': 0.9564047455787659, 'class': 'pipette', 'image_path': '/content/0049.png', 'prediction_type': 'ObjectDetectionModel'}]\n",
            "0049.png\n",
            "[{'x': 237, 'y': 476, 'width': 155, 'height': 524, 'confidence': 0.9630499482154846, 'class': 'pipette', 'image_path': '/content/0050.png', 'prediction_type': 'ObjectDetectionModel'}]\n",
            "0050.png\n",
            "[{'x': 233, 'y': 470, 'width': 159, 'height': 496, 'confidence': 0.9537984728813171, 'class': 'pipette', 'image_path': '/content/0051.png', 'prediction_type': 'ObjectDetectionModel'}]\n",
            "0051.png\n",
            "[{'x': 226, 'y': 472, 'width': 144, 'height': 487, 'confidence': 0.9578945636749268, 'class': 'pipette', 'image_path': '/content/0052.png', 'prediction_type': 'ObjectDetectionModel'}]\n",
            "0052.png\n",
            "[{'x': 219, 'y': 472, 'width': 133, 'height': 471, 'confidence': 0.9563567638397217, 'class': 'pipette', 'image_path': '/content/0053.png', 'prediction_type': 'ObjectDetectionModel'}]\n",
            "0053.png\n",
            "[{'x': 212, 'y': 477, 'width': 120, 'height': 463, 'confidence': 0.9654871225357056, 'class': 'pipette', 'image_path': '/content/0054.png', 'prediction_type': 'ObjectDetectionModel'}]\n",
            "0054.png\n",
            "[{'x': 207, 'y': 485, 'width': 114, 'height': 484, 'confidence': 0.9571559429168701, 'class': 'pipette', 'image_path': '/content/0055.png', 'prediction_type': 'ObjectDetectionModel'}]\n",
            "0055.png\n",
            "[{'x': 203, 'y': 487, 'width': 108, 'height': 489, 'confidence': 0.9558475017547607, 'class': 'pipette', 'image_path': '/content/0056.png', 'prediction_type': 'ObjectDetectionModel'}]\n",
            "0056.png\n",
            "[{'x': 201, 'y': 481, 'width': 97, 'height': 481, 'confidence': 0.946007251739502, 'class': 'pipette', 'image_path': '/content/0057.png', 'prediction_type': 'ObjectDetectionModel'}]\n",
            "0057.png\n",
            "[{'x': 196, 'y': 482, 'width': 89, 'height': 477, 'confidence': 0.923753023147583, 'class': 'pipette', 'image_path': '/content/0058.png', 'prediction_type': 'ObjectDetectionModel'}]\n",
            "0058.png\n",
            "[{'x': 190, 'y': 485, 'width': 78, 'height': 485, 'confidence': 0.9310028553009033, 'class': 'pipette', 'image_path': '/content/0059.png', 'prediction_type': 'ObjectDetectionModel'}]\n",
            "0059.png\n",
            "[{'x': 187, 'y': 488, 'width': 72, 'height': 481, 'confidence': 0.9172751903533936, 'class': 'pipette', 'image_path': '/content/0060.png', 'prediction_type': 'ObjectDetectionModel'}]\n",
            "0060.png\n",
            "[{'x': 181, 'y': 490, 'width': 72, 'height': 485, 'confidence': 0.9336550235748291, 'class': 'pipette', 'image_path': '/content/0061.png', 'prediction_type': 'ObjectDetectionModel'}]\n",
            "0061.png\n",
            "[{'x': 177, 'y': 488, 'width': 69, 'height': 479, 'confidence': 0.9093829393386841, 'class': 'pipette', 'image_path': '/content/0062.png', 'prediction_type': 'ObjectDetectionModel'}]\n",
            "0062.png\n",
            "[{'x': 170, 'y': 489, 'width': 77, 'height': 461, 'confidence': 0.9205561876296997, 'class': 'pipette', 'image_path': '/content/0063.png', 'prediction_type': 'ObjectDetectionModel'}]\n",
            "0063.png\n",
            "[{'x': 171, 'y': 491, 'width': 68, 'height': 414, 'confidence': 0.919284999370575, 'class': 'pipette', 'image_path': '/content/0064.png', 'prediction_type': 'ObjectDetectionModel'}]\n",
            "0064.png\n",
            "[{'x': 165, 'y': 481, 'width': 57, 'height': 378, 'confidence': 0.9290357232093811, 'class': 'pipette', 'image_path': '/content/0065.png', 'prediction_type': 'ObjectDetectionModel'}]\n",
            "0065.png\n",
            "[{'x': 160, 'y': 468, 'width': 59, 'height': 372, 'confidence': 0.9231716394424438, 'class': 'pipette', 'image_path': '/content/0066.png', 'prediction_type': 'ObjectDetectionModel'}]\n",
            "0066.png\n",
            "[{'x': 167, 'y': 458, 'width': 58, 'height': 350, 'confidence': 0.9266085624694824, 'class': 'pipette', 'image_path': '/content/0067.png', 'prediction_type': 'ObjectDetectionModel'}]\n",
            "0067.png\n",
            "[{'x': 173, 'y': 439, 'width': 66, 'height': 315, 'confidence': 0.9402034878730774, 'class': 'pipette', 'image_path': '/content/0068.png', 'prediction_type': 'ObjectDetectionModel'}]\n",
            "0068.png\n",
            "[{'x': 182, 'y': 436, 'width': 82, 'height': 311, 'confidence': 0.9417309761047363, 'class': 'pipette', 'image_path': '/content/0069.png', 'prediction_type': 'ObjectDetectionModel'}]\n",
            "0069.png\n",
            "[{'x': 195, 'y': 443, 'width': 107, 'height': 332, 'confidence': 0.947697103023529, 'class': 'pipette', 'image_path': '/content/0070.png', 'prediction_type': 'ObjectDetectionModel'}]\n",
            "0070.png\n",
            "[{'x': 215, 'y': 458, 'width': 148, 'height': 366, 'confidence': 0.9517942070960999, 'class': 'pipette', 'image_path': '/content/0071.png', 'prediction_type': 'ObjectDetectionModel'}]\n",
            "0071.png\n",
            "[{'x': 211, 'y': 451, 'width': 134, 'height': 344, 'confidence': 0.9562225341796875, 'class': 'pipette', 'image_path': '/content/0072.png', 'prediction_type': 'ObjectDetectionModel'}]\n",
            "0072.png\n",
            "[{'x': 219, 'y': 459, 'width': 145, 'height': 374, 'confidence': 0.9443121552467346, 'class': 'pipette', 'image_path': '/content/0073.png', 'prediction_type': 'ObjectDetectionModel'}]\n",
            "0073.png\n",
            "[{'x': 223, 'y': 465, 'width': 152, 'height': 391, 'confidence': 0.9555486440658569, 'class': 'pipette', 'image_path': '/content/0074.png', 'prediction_type': 'ObjectDetectionModel'}]\n",
            "0074.png\n",
            "[{'x': 201, 'y': 459, 'width': 109, 'height': 376, 'confidence': 0.961289644241333, 'class': 'pipette', 'image_path': '/content/0075.png', 'prediction_type': 'ObjectDetectionModel'}]\n",
            "0075.png\n",
            "[{'x': 198, 'y': 451, 'width': 105, 'height': 350, 'confidence': 0.9361864328384399, 'class': 'pipette', 'image_path': '/content/0076.png', 'prediction_type': 'ObjectDetectionModel'}]\n",
            "0076.png\n",
            "[{'x': 199, 'y': 442, 'width': 112, 'height': 326, 'confidence': 0.9165810942649841, 'class': 'pipette', 'image_path': '/content/0077.png', 'prediction_type': 'ObjectDetectionModel'}]\n",
            "0077.png\n",
            "[{'x': 192, 'y': 434, 'width': 129, 'height': 299, 'confidence': 0.953705370426178, 'class': 'pipette', 'image_path': '/content/0078.png', 'prediction_type': 'ObjectDetectionModel'}]\n",
            "0078.png\n",
            "[{'x': 185, 'y': 435, 'width': 148, 'height': 295, 'confidence': 0.9488896131515503, 'class': 'pipette', 'image_path': '/content/0079.png', 'prediction_type': 'ObjectDetectionModel'}]\n",
            "0079.png\n",
            "[{'x': 184, 'y': 437, 'width': 149, 'height': 308, 'confidence': 0.9420347213745117, 'class': 'pipette', 'image_path': '/content/0080.png', 'prediction_type': 'ObjectDetectionModel'}]\n",
            "0080.png\n",
            "[{'x': 187, 'y': 443, 'width': 154, 'height': 323, 'confidence': 0.9543294310569763, 'class': 'pipette', 'image_path': '/content/0081.png', 'prediction_type': 'ObjectDetectionModel'}]\n",
            "0081.png\n",
            "[{'x': 189, 'y': 455, 'width': 159, 'height': 352, 'confidence': 0.961142897605896, 'class': 'pipette', 'image_path': '/content/0082.png', 'prediction_type': 'ObjectDetectionModel'}]\n",
            "0082.png\n",
            "[{'x': 193, 'y': 460, 'width': 156, 'height': 370, 'confidence': 0.9501736164093018, 'class': 'pipette', 'image_path': '/content/0083.png', 'prediction_type': 'ObjectDetectionModel'}]\n",
            "0083.png\n",
            "[{'x': 196, 'y': 462, 'width': 156, 'height': 379, 'confidence': 0.9547951221466064, 'class': 'pipette', 'image_path': '/content/0084.png', 'prediction_type': 'ObjectDetectionModel'}]\n",
            "0084.png\n",
            "[{'x': 196, 'y': 462, 'width': 159, 'height': 400, 'confidence': 0.9573414325714111, 'class': 'pipette', 'image_path': '/content/0085.png', 'prediction_type': 'ObjectDetectionModel'}]\n",
            "0085.png\n",
            "[{'x': 182, 'y': 525, 'width': 138, 'height': 378, 'confidence': 0.9351152777671814, 'class': 'pipette', 'image_path': '/content/0086.png', 'prediction_type': 'ObjectDetectionModel'}, {'x': 248, 'y': 266, 'width': 69, 'height': 54, 'confidence': 0.7741189002990723, 'class': 'pipette', 'image_path': '/content/0086.png', 'prediction_type': 'ObjectDetectionModel'}]\n",
            "0086.png\n",
            "[{'x': 178, 'y': 563, 'width': 152, 'height': 432, 'confidence': 0.9505236148834229, 'class': 'pipette', 'image_path': '/content/0087.png', 'prediction_type': 'ObjectDetectionModel'}, {'x': 255, 'y': 259, 'width': 77, 'height': 87, 'confidence': 0.8486739993095398, 'class': 'pipette', 'image_path': '/content/0087.png', 'prediction_type': 'ObjectDetectionModel'}]\n",
            "0087.png\n",
            "[{'x': 183, 'y': 583, 'width': 149, 'height': 461, 'confidence': 0.9531781673431396, 'class': 'pipette', 'image_path': '/content/0088.png', 'prediction_type': 'ObjectDetectionModel'}, {'x': 261, 'y': 242, 'width': 84, 'height': 125, 'confidence': 0.8705359697341919, 'class': 'pipette', 'image_path': '/content/0088.png', 'prediction_type': 'ObjectDetectionModel'}]\n",
            "0088.png\n",
            "[{'x': 180, 'y': 586, 'width': 152, 'height': 456, 'confidence': 0.9491275548934937, 'class': 'pipette', 'image_path': '/content/0089.png', 'prediction_type': 'ObjectDetectionModel'}, {'x': 258, 'y': 230, 'width': 96, 'height': 149, 'confidence': 0.604172945022583, 'class': 'pipette', 'image_path': '/content/0089.png', 'prediction_type': 'ObjectDetectionModel'}]\n",
            "0089.png\n",
            "[{'x': 195, 'y': 579, 'width': 118, 'height': 429, 'confidence': 0.9535925984382629, 'class': 'pipette', 'image_path': '/content/0090.png', 'prediction_type': 'ObjectDetectionModel'}, {'x': 249, 'y': 222, 'width': 99, 'height': 173, 'confidence': 0.9318707585334778, 'class': 'pipette', 'image_path': '/content/0090.png', 'prediction_type': 'ObjectDetectionModel'}]\n",
            "0090.png\n",
            "[{'x': 241, 'y': 226, 'width': 96, 'height': 194, 'confidence': 0.9460691213607788, 'class': 'pipette', 'image_path': '/content/0091.png', 'prediction_type': 'ObjectDetectionModel'}, {'x': 200, 'y': 571, 'width': 94, 'height': 387, 'confidence': 0.9430028200149536, 'class': 'pipette', 'image_path': '/content/0091.png', 'prediction_type': 'ObjectDetectionModel'}]\n",
            "0091.png\n",
            "[{'x': 234, 'y': 241, 'width': 97, 'height': 206, 'confidence': 0.9415407180786133, 'class': 'pipette', 'image_path': '/content/0092.png', 'prediction_type': 'ObjectDetectionModel'}, {'x': 195, 'y': 563, 'width': 89, 'height': 334, 'confidence': 0.8758292198181152, 'class': 'pipette', 'image_path': '/content/0092.png', 'prediction_type': 'ObjectDetectionModel'}]\n",
            "0092.png\n",
            "[{'x': 233, 'y': 264, 'width': 112, 'height': 210, 'confidence': 0.9464116096496582, 'class': 'pipette', 'image_path': '/content/0093.png', 'prediction_type': 'ObjectDetectionModel'}, {'x': 177, 'y': 563, 'width': 95, 'height': 275, 'confidence': 0.9208099842071533, 'class': 'pipette', 'image_path': '/content/0093.png', 'prediction_type': 'ObjectDetectionModel'}]\n",
            "0093.png\n",
            "[{'x': 233, 'y': 292, 'width': 105, 'height': 206, 'confidence': 0.9442331790924072, 'class': 'pipette', 'image_path': '/content/0094.png', 'prediction_type': 'ObjectDetectionModel'}, {'x': 179, 'y': 554, 'width': 78, 'height': 203, 'confidence': 0.9255974292755127, 'class': 'pipette', 'image_path': '/content/0094.png', 'prediction_type': 'ObjectDetectionModel'}]\n",
            "0094.png\n",
            "[{'x': 220, 'y': 317, 'width': 87, 'height': 193, 'confidence': 0.9515444040298462, 'class': 'pipette', 'image_path': '/content/0095.png', 'prediction_type': 'ObjectDetectionModel'}, {'x': 197, 'y': 534, 'width': 55, 'height': 142, 'confidence': 0.875163197517395, 'class': 'pipette', 'image_path': '/content/0095.png', 'prediction_type': 'ObjectDetectionModel'}]\n",
            "0095.png\n",
            "[{'x': 225, 'y': 331, 'width': 97, 'height': 181, 'confidence': 0.9458146691322327, 'class': 'pipette', 'image_path': '/content/0096.png', 'prediction_type': 'ObjectDetectionModel'}, {'x': 189, 'y': 514, 'width': 49, 'height': 94, 'confidence': 0.9081700444221497, 'class': 'pipette', 'image_path': '/content/0096.png', 'prediction_type': 'ObjectDetectionModel'}]\n",
            "0096.png\n",
            "[{'x': 230, 'y': 346, 'width': 110, 'height': 171, 'confidence': 0.9343852400779724, 'class': 'pipette', 'image_path': '/content/0097.png', 'prediction_type': 'ObjectDetectionModel'}]\n",
            "0097.png\n",
            "[{'x': 237, 'y': 369, 'width': 127, 'height': 177, 'confidence': 0.8991800546646118, 'class': 'pipette', 'image_path': '/content/0098.png', 'prediction_type': 'ObjectDetectionModel'}]\n",
            "0098.png\n",
            "[{'x': 249, 'y': 373, 'width': 129, 'height': 161, 'confidence': 0.8633744716644287, 'class': 'pipette', 'image_path': '/content/0099.png', 'prediction_type': 'ObjectDetectionModel'}]\n",
            "0099.png\n",
            "[{'x': 235, 'y': 398, 'width': 174, 'height': 181, 'confidence': 0.786596953868866, 'class': 'pipette', 'image_path': '/content/0100.png', 'prediction_type': 'ObjectDetectionModel'}]\n",
            "0100.png\n",
            "[{'x': 235, 'y': 402, 'width': 179, 'height': 181, 'confidence': 0.7212982177734375, 'class': 'pipette', 'image_path': '/content/0101.png', 'prediction_type': 'ObjectDetectionModel'}]\n",
            "0101.png\n",
            "[{'x': 241, 'y': 420, 'width': 136, 'height': 195, 'confidence': 0.8346496820449829, 'class': 'pipette', 'image_path': '/content/0102.png', 'prediction_type': 'ObjectDetectionModel'}]\n",
            "0102.png\n",
            "[{'x': 239, 'y': 462, 'width': 111, 'height': 224, 'confidence': 0.9358660578727722, 'class': 'pipette', 'image_path': '/content/0103.png', 'prediction_type': 'ObjectDetectionModel'}]\n",
            "0103.png\n",
            "[{'x': 229, 'y': 523, 'width': 140, 'height': 274, 'confidence': 0.8866297602653503, 'class': 'pipette', 'image_path': '/content/0104.png', 'prediction_type': 'ObjectDetectionModel'}, {'x': 202, 'y': 230, 'width': 43, 'height': 86, 'confidence': 0.6460536122322083, 'class': 'pipette', 'image_path': '/content/0104.png', 'prediction_type': 'ObjectDetectionModel'}]\n",
            "0104.png\n",
            "[{'x': 233, 'y': 538, 'width': 138, 'height': 240, 'confidence': 0.9177729487419128, 'class': 'pipette', 'image_path': '/content/0105.png', 'prediction_type': 'ObjectDetectionModel'}, {'x': 210, 'y': 218, 'width': 47, 'height': 126, 'confidence': 0.8988547325134277, 'class': 'pipette', 'image_path': '/content/0105.png', 'prediction_type': 'ObjectDetectionModel'}]\n",
            "0105.png\n",
            "[{'x': 237, 'y': 565, 'width': 107, 'height': 218, 'confidence': 0.9519863724708557, 'class': 'pipette', 'image_path': '/content/0106.png', 'prediction_type': 'ObjectDetectionModel'}, {'x': 217, 'y': 209, 'width': 53, 'height': 177, 'confidence': 0.9185521006584167, 'class': 'pipette', 'image_path': '/content/0106.png', 'prediction_type': 'ObjectDetectionModel'}, {'x': 254, 'y': 390, 'width': 41, 'height': 35, 'confidence': 0.6900556087493896, 'class': 'pipette', 'image_path': '/content/0106.png', 'prediction_type': 'ObjectDetectionModel'}]\n",
            "0106.png\n",
            "[{'x': 219, 'y': 587, 'width': 109, 'height': 206, 'confidence': 0.9504918456077576, 'class': 'pipette', 'image_path': '/content/0107.png', 'prediction_type': 'ObjectDetectionModel'}, {'x': 238, 'y': 224, 'width': 54, 'height': 214, 'confidence': 0.9197554588317871, 'class': 'pipette', 'image_path': '/content/0107.png', 'prediction_type': 'ObjectDetectionModel'}, {'x': 243, 'y': 409, 'width': 55, 'height': 43, 'confidence': 0.7949190139770508, 'class': 'pipette', 'image_path': '/content/0107.png', 'prediction_type': 'ObjectDetectionModel'}]\n",
            "0107.png\n",
            "[{'x': 213, 'y': 593, 'width': 112, 'height': 206, 'confidence': 0.9484493732452393, 'class': 'pipette', 'image_path': '/content/0108.png', 'prediction_type': 'ObjectDetectionModel'}, {'x': 243, 'y': 232, 'width': 48, 'height': 201, 'confidence': 0.9294717907905579, 'class': 'pipette', 'image_path': '/content/0108.png', 'prediction_type': 'ObjectDetectionModel'}, {'x': 232, 'y': 408, 'width': 75, 'height': 53, 'confidence': 0.7309653759002686, 'class': 'pipette', 'image_path': '/content/0108.png', 'prediction_type': 'ObjectDetectionModel'}]\n",
            "0108.png\n",
            "[{'x': 215, 'y': 591, 'width': 110, 'height': 207, 'confidence': 0.9524675607681274, 'class': 'pipette', 'image_path': '/content/0109.png', 'prediction_type': 'ObjectDetectionModel'}, {'x': 236, 'y': 226, 'width': 51, 'height': 203, 'confidence': 0.9328593015670776, 'class': 'pipette', 'image_path': '/content/0109.png', 'prediction_type': 'ObjectDetectionModel'}, {'x': 232, 'y': 406, 'width': 76, 'height': 49, 'confidence': 0.7201999425888062, 'class': 'pipette', 'image_path': '/content/0109.png', 'prediction_type': 'ObjectDetectionModel'}]\n",
            "0109.png\n",
            "[{'x': 215, 'y': 581, 'width': 111, 'height': 213, 'confidence': 0.9545982480049133, 'class': 'pipette', 'image_path': '/content/0110.png', 'prediction_type': 'ObjectDetectionModel'}, {'x': 232, 'y': 227, 'width': 53, 'height': 191, 'confidence': 0.9187540411949158, 'class': 'pipette', 'image_path': '/content/0110.png', 'prediction_type': 'ObjectDetectionModel'}, {'x': 233, 'y': 397, 'width': 67, 'height': 46, 'confidence': 0.7744131684303284, 'class': 'pipette', 'image_path': '/content/0110.png', 'prediction_type': 'ObjectDetectionModel'}]\n",
            "0110.png\n",
            "[{'x': 213, 'y': 564, 'width': 108, 'height': 220, 'confidence': 0.9548695087432861, 'class': 'pipette', 'image_path': '/content/0111.png', 'prediction_type': 'ObjectDetectionModel'}, {'x': 228, 'y': 222, 'width': 45, 'height': 138, 'confidence': 0.9010578393936157, 'class': 'pipette', 'image_path': '/content/0111.png', 'prediction_type': 'ObjectDetectionModel'}, {'x': 231, 'y': 382, 'width': 61, 'height': 35, 'confidence': 0.549370288848877, 'class': 'pipette', 'image_path': '/content/0111.png', 'prediction_type': 'ObjectDetectionModel'}]\n",
            "0111.png\n",
            "[{'x': 220, 'y': 539, 'width': 114, 'height': 247, 'confidence': 0.9502490758895874, 'class': 'pipette', 'image_path': '/content/0112.png', 'prediction_type': 'ObjectDetectionModel'}, {'x': 217, 'y': 243, 'width': 29, 'height': 85, 'confidence': 0.814338743686676, 'class': 'pipette', 'image_path': '/content/0112.png', 'prediction_type': 'ObjectDetectionModel'}]\n",
            "0112.png\n",
            "[{'x': 225, 'y': 503, 'width': 121, 'height': 231, 'confidence': 0.8790596723556519, 'class': 'pipette', 'image_path': '/content/0113.png', 'prediction_type': 'ObjectDetectionModel'}]\n",
            "0113.png\n",
            "[{'x': 219, 'y': 492, 'width': 108, 'height': 226, 'confidence': 0.9109575748443604, 'class': 'pipette', 'image_path': '/content/0114.png', 'prediction_type': 'ObjectDetectionModel'}]\n",
            "0114.png\n",
            "[{'x': 217, 'y': 483, 'width': 108, 'height': 226, 'confidence': 0.9216028451919556, 'class': 'pipette', 'image_path': '/content/0115.png', 'prediction_type': 'ObjectDetectionModel'}]\n",
            "0115.png\n",
            "[{'x': 218, 'y': 474, 'width': 111, 'height': 214, 'confidence': 0.9122498631477356, 'class': 'pipette', 'image_path': '/content/0116.png', 'prediction_type': 'ObjectDetectionModel'}]\n",
            "0116.png\n",
            "[{'x': 209, 'y': 476, 'width': 110, 'height': 215, 'confidence': 0.934729814529419, 'class': 'pipette', 'image_path': '/content/0117.png', 'prediction_type': 'ObjectDetectionModel'}]\n",
            "0117.png\n",
            "[{'x': 201, 'y': 471, 'width': 122, 'height': 205, 'confidence': 0.9465814828872681, 'class': 'pipette', 'image_path': '/content/0118.png', 'prediction_type': 'ObjectDetectionModel'}]\n",
            "0118.png\n",
            "[{'x': 203, 'y': 477, 'width': 132, 'height': 195, 'confidence': 0.9469074010848999, 'class': 'pipette', 'image_path': '/content/0119.png', 'prediction_type': 'ObjectDetectionModel'}]\n",
            "0119.png\n",
            "[{'x': 208, 'y': 479, 'width': 149, 'height': 182, 'confidence': 0.9395298361778259, 'class': 'pipette', 'image_path': '/content/0120.png', 'prediction_type': 'ObjectDetectionModel'}]\n",
            "0120.png\n",
            "[{'x': 216, 'y': 482, 'width': 160, 'height': 182, 'confidence': 0.9245800971984863, 'class': 'pipette', 'image_path': '/content/0121.png', 'prediction_type': 'ObjectDetectionModel'}]\n",
            "0121.png\n",
            "[{'x': 228, 'y': 481, 'width': 171, 'height': 182, 'confidence': 0.8868986368179321, 'class': 'pipette', 'image_path': '/content/0122.png', 'prediction_type': 'ObjectDetectionModel'}]\n",
            "0122.png\n",
            "[{'x': 241, 'y': 485, 'width': 180, 'height': 186, 'confidence': 0.9163303375244141, 'class': 'pipette', 'image_path': '/content/0123.png', 'prediction_type': 'ObjectDetectionModel'}]\n",
            "0123.png\n",
            "[{'x': 238, 'y': 506, 'width': 182, 'height': 198, 'confidence': 0.8753423094749451, 'class': 'pipette', 'image_path': '/content/0124.png', 'prediction_type': 'ObjectDetectionModel'}, {'x': 168, 'y': 249, 'width': 91, 'height': 86, 'confidence': 0.5292725563049316, 'class': 'pipette', 'image_path': '/content/0124.png', 'prediction_type': 'ObjectDetectionModel'}]\n",
            "0124.png\n",
            "[{'x': 254, 'y': 503, 'width': 190, 'height': 198, 'confidence': 0.889398455619812, 'class': 'pipette', 'image_path': '/content/0125.png', 'prediction_type': 'ObjectDetectionModel'}]\n",
            "0125.png\n",
            "[{'x': 238, 'y': 494, 'width': 188, 'height': 193, 'confidence': 0.8351970911026001, 'class': 'pipette', 'image_path': '/content/0126.png', 'prediction_type': 'ObjectDetectionModel'}, {'x': 154, 'y': 246, 'width': 68, 'height': 73, 'confidence': 0.5716675519943237, 'class': 'pipette', 'image_path': '/content/0126.png', 'prediction_type': 'ObjectDetectionModel'}]\n",
            "0126.png\n",
            "[{'x': 184, 'y': 214, 'width': 72, 'height': 147, 'confidence': 0.9079102277755737, 'class': 'pipette', 'image_path': '/content/0127.png', 'prediction_type': 'ObjectDetectionModel'}, {'x': 202, 'y': 516, 'width': 174, 'height': 215, 'confidence': 0.6916887164115906, 'class': 'pipette', 'image_path': '/content/0127.png', 'prediction_type': 'ObjectDetectionModel'}]\n",
            "0127.png\n",
            "[{'x': 181, 'y': 208, 'width': 70, 'height': 155, 'confidence': 0.9153832197189331, 'class': 'pipette', 'image_path': '/content/0128.png', 'prediction_type': 'ObjectDetectionModel'}, {'x': 187, 'y': 512, 'width': 165, 'height': 228, 'confidence': 0.8670810461044312, 'class': 'pipette', 'image_path': '/content/0128.png', 'prediction_type': 'ObjectDetectionModel'}]\n",
            "0128.png\n",
            "[{'x': 184, 'y': 503, 'width': 162, 'height': 227, 'confidence': 0.9195301532745361, 'class': 'pipette', 'image_path': '/content/0129.png', 'prediction_type': 'ObjectDetectionModel'}, {'x': 181, 'y': 205, 'width': 66, 'height': 154, 'confidence': 0.913254976272583, 'class': 'pipette', 'image_path': '/content/0129.png', 'prediction_type': 'ObjectDetectionModel'}]\n",
            "0129.png\n",
            "[{'x': 171, 'y': 501, 'width': 154, 'height': 228, 'confidence': 0.9447133541107178, 'class': 'pipette', 'image_path': '/content/0130.png', 'prediction_type': 'ObjectDetectionModel'}, {'x': 183, 'y': 210, 'width': 64, 'height': 151, 'confidence': 0.9191538095474243, 'class': 'pipette', 'image_path': '/content/0130.png', 'prediction_type': 'ObjectDetectionModel'}]\n",
            "0130.png\n",
            "[{'x': 165, 'y': 495, 'width': 152, 'height': 238, 'confidence': 0.9340642690658569, 'class': 'pipette', 'image_path': '/content/0131.png', 'prediction_type': 'ObjectDetectionModel'}, {'x': 186, 'y': 218, 'width': 59, 'height': 143, 'confidence': 0.9311022758483887, 'class': 'pipette', 'image_path': '/content/0131.png', 'prediction_type': 'ObjectDetectionModel'}]\n",
            "0131.png\n",
            "[{'x': 162, 'y': 495, 'width': 151, 'height': 242, 'confidence': 0.9483819007873535, 'class': 'pipette', 'image_path': '/content/0132.png', 'prediction_type': 'ObjectDetectionModel'}, {'x': 189, 'y': 224, 'width': 57, 'height': 139, 'confidence': 0.9285199642181396, 'class': 'pipette', 'image_path': '/content/0132.png', 'prediction_type': 'ObjectDetectionModel'}]\n",
            "0132.png\n",
            "[{'x': 157, 'y': 491, 'width': 156, 'height': 231, 'confidence': 0.9570552110671997, 'class': 'pipette', 'image_path': '/content/0133.png', 'prediction_type': 'ObjectDetectionModel'}, {'x': 198, 'y': 242, 'width': 42, 'height': 111, 'confidence': 0.9101460576057434, 'class': 'pipette', 'image_path': '/content/0133.png', 'prediction_type': 'ObjectDetectionModel'}]\n",
            "0133.png\n",
            "[{'x': 153, 'y': 492, 'width': 139, 'height': 234, 'confidence': 0.9354085922241211, 'class': 'pipette', 'image_path': '/content/0134.png', 'prediction_type': 'ObjectDetectionModel'}, {'x': 192, 'y': 236, 'width': 48, 'height': 117, 'confidence': 0.9253469705581665, 'class': 'pipette', 'image_path': '/content/0134.png', 'prediction_type': 'ObjectDetectionModel'}]\n",
            "0134.png\n",
            "[{'x': 154, 'y': 485, 'width': 126, 'height': 240, 'confidence': 0.9460686445236206, 'class': 'pipette', 'image_path': '/content/0135.png', 'prediction_type': 'ObjectDetectionModel'}, {'x': 200, 'y': 218, 'width': 22, 'height': 67, 'confidence': 0.7661718130111694, 'class': 'pipette', 'image_path': '/content/0135.png', 'prediction_type': 'ObjectDetectionModel'}]\n",
            "0135.png\n",
            "[{'x': 157, 'y': 494, 'width': 126, 'height': 243, 'confidence': 0.9484976530075073, 'class': 'pipette', 'image_path': '/content/0136.png', 'prediction_type': 'ObjectDetectionModel'}, {'x': 211, 'y': 215, 'width': 24, 'height': 71, 'confidence': 0.8032009601593018, 'class': 'pipette', 'image_path': '/content/0136.png', 'prediction_type': 'ObjectDetectionModel'}]\n",
            "0136.png\n",
            "[{'x': 159, 'y': 497, 'width': 127, 'height': 232, 'confidence': 0.9317415952682495, 'class': 'pipette', 'image_path': '/content/0137.png', 'prediction_type': 'ObjectDetectionModel'}, {'x': 224, 'y': 224, 'width': 30, 'height': 85, 'confidence': 0.8387236595153809, 'class': 'pipette', 'image_path': '/content/0137.png', 'prediction_type': 'ObjectDetectionModel'}]\n",
            "0137.png\n",
            "[{'x': 172, 'y': 485, 'width': 124, 'height': 207, 'confidence': 0.9138815402984619, 'class': 'pipette', 'image_path': '/content/0138.png', 'prediction_type': 'ObjectDetectionModel'}, {'x': 251, 'y': 236, 'width': 45, 'height': 71, 'confidence': 0.8575726747512817, 'class': 'pipette', 'image_path': '/content/0138.png', 'prediction_type': 'ObjectDetectionModel'}]\n",
            "0138.png\n",
            "[{'x': 172, 'y': 475, 'width': 138, 'height': 206, 'confidence': 0.9268980026245117, 'class': 'pipette', 'image_path': '/content/0139.png', 'prediction_type': 'ObjectDetectionModel'}, {'x': 252, 'y': 244, 'width': 41, 'height': 69, 'confidence': 0.8084553480148315, 'class': 'pipette', 'image_path': '/content/0139.png', 'prediction_type': 'ObjectDetectionModel'}]\n",
            "0139.png\n",
            "[{'x': 190, 'y': 465, 'width': 129, 'height': 205, 'confidence': 0.9087277054786682, 'class': 'pipette', 'image_path': '/content/0140.png', 'prediction_type': 'ObjectDetectionModel'}, {'x': 249, 'y': 249, 'width': 36, 'height': 62, 'confidence': 0.8183414936065674, 'class': 'pipette', 'image_path': '/content/0140.png', 'prediction_type': 'ObjectDetectionModel'}]\n",
            "0140.png\n",
            "[{'x': 218, 'y': 437, 'width': 140, 'height': 190, 'confidence': 0.9342700839042664, 'class': 'pipette', 'image_path': '/content/0141.png', 'prediction_type': 'ObjectDetectionModel'}]\n",
            "0141.png\n",
            "[{'x': 223, 'y': 462, 'width': 158, 'height': 179, 'confidence': 0.913722038269043, 'class': 'pipette', 'image_path': '/content/0142.png', 'prediction_type': 'ObjectDetectionModel'}, {'x': 267, 'y': 266, 'width': 30, 'height': 53, 'confidence': 0.5846394300460815, 'class': 'pipette', 'image_path': '/content/0142.png', 'prediction_type': 'ObjectDetectionModel'}]\n",
            "0142.png\n",
            "[{'x': 229, 'y': 477, 'width': 169, 'height': 178, 'confidence': 0.8925614356994629, 'class': 'pipette', 'image_path': '/content/0143.png', 'prediction_type': 'ObjectDetectionModel'}, {'x': 276, 'y': 262, 'width': 51, 'height': 65, 'confidence': 0.8283166885375977, 'class': 'pipette', 'image_path': '/content/0143.png', 'prediction_type': 'ObjectDetectionModel'}]\n",
            "0143.png\n",
            "[{'x': 233, 'y': 475, 'width': 184, 'height': 163, 'confidence': 0.8519541621208191, 'class': 'pipette', 'image_path': '/content/0144.png', 'prediction_type': 'ObjectDetectionModel'}, {'x': 288, 'y': 282, 'width': 29, 'height': 47, 'confidence': 0.6049612164497375, 'class': 'pipette', 'image_path': '/content/0144.png', 'prediction_type': 'ObjectDetectionModel'}]\n",
            "0144.png\n",
            "[{'x': 232, 'y': 467, 'width': 187, 'height': 155, 'confidence': 0.8808209896087646, 'class': 'pipette', 'image_path': '/content/0145.png', 'prediction_type': 'ObjectDetectionModel'}]\n",
            "0145.png\n",
            "[{'x': 246, 'y': 474, 'width': 190, 'height': 153, 'confidence': 0.8870185613632202, 'class': 'pipette', 'image_path': '/content/0146.png', 'prediction_type': 'ObjectDetectionModel'}, {'x': 290, 'y': 306, 'width': 21, 'height': 34, 'confidence': 0.7076635956764221, 'class': 'pipette', 'image_path': '/content/0146.png', 'prediction_type': 'ObjectDetectionModel'}]\n",
            "0146.png\n",
            "[{'x': 254, 'y': 441, 'width': 193, 'height': 135, 'confidence': 0.8618249297142029, 'class': 'pipette', 'image_path': '/content/0147.png', 'prediction_type': 'ObjectDetectionModel'}]\n",
            "0147.png\n",
            "[{'x': 259, 'y': 374, 'width': 195, 'height': 115, 'confidence': 0.8234485387802124, 'class': 'pipette', 'image_path': '/content/0148.png', 'prediction_type': 'ObjectDetectionModel'}]\n",
            "0148.png\n",
            "[{'x': 272, 'y': 334, 'width': 197, 'height': 191, 'confidence': 0.8141379356384277, 'class': 'pipette', 'image_path': '/content/0149.png', 'prediction_type': 'ObjectDetectionModel'}]\n",
            "0149.png\n",
            "[{'x': 280, 'y': 314, 'width': 198, 'height': 251, 'confidence': 0.8993873596191406, 'class': 'pipette', 'image_path': '/content/0150.png', 'prediction_type': 'ObjectDetectionModel'}]\n",
            "0150.png\n",
            "[{'x': 274, 'y': 359, 'width': 191, 'height': 431, 'confidence': 0.9499300718307495, 'class': 'pipette', 'image_path': '/content/0151.png', 'prediction_type': 'ObjectDetectionModel'}]\n",
            "0151.png\n",
            "[{'x': 262, 'y': 399, 'width': 180, 'height': 535, 'confidence': 0.9557393789291382, 'class': 'pipette', 'image_path': '/content/0152.png', 'prediction_type': 'ObjectDetectionModel'}]\n",
            "0152.png\n",
            "[{'x': 240, 'y': 430, 'width': 169, 'height': 587, 'confidence': 0.9579300284385681, 'class': 'pipette', 'image_path': '/content/0153.png', 'prediction_type': 'ObjectDetectionModel'}]\n",
            "0153.png\n",
            "[{'x': 221, 'y': 465, 'width': 156, 'height': 642, 'confidence': 0.9485554099082947, 'class': 'pipette', 'image_path': '/content/0154.png', 'prediction_type': 'ObjectDetectionModel'}]\n",
            "0154.png\n",
            "[{'x': 205, 'y': 484, 'width': 159, 'height': 670, 'confidence': 0.9489039182662964, 'class': 'pipette', 'image_path': '/content/0155.png', 'prediction_type': 'ObjectDetectionModel'}]\n",
            "0155.png\n",
            "[{'x': 199, 'y': 501, 'width': 170, 'height': 686, 'confidence': 0.9567726850509644, 'class': 'pipette', 'image_path': '/content/0156.png', 'prediction_type': 'ObjectDetectionModel'}]\n",
            "0156.png\n",
            "[{'x': 192, 'y': 513, 'width': 161, 'height': 673, 'confidence': 0.9582055807113647, 'class': 'pipette', 'image_path': '/content/0157.png', 'prediction_type': 'ObjectDetectionModel'}]\n",
            "0157.png\n",
            "[{'x': 184, 'y': 528, 'width': 162, 'height': 639, 'confidence': 0.9509291648864746, 'class': 'pipette', 'image_path': '/content/0158.png', 'prediction_type': 'ObjectDetectionModel'}]\n",
            "0158.png\n",
            "[{'x': 175, 'y': 553, 'width': 165, 'height': 595, 'confidence': 0.9581140875816345, 'class': 'pipette', 'image_path': '/content/0159.png', 'prediction_type': 'ObjectDetectionModel'}]\n",
            "0159.png\n",
            "[{'x': 172, 'y': 573, 'width': 159, 'height': 553, 'confidence': 0.9654535055160522, 'class': 'pipette', 'image_path': '/content/0160.png', 'prediction_type': 'ObjectDetectionModel'}]\n",
            "0160.png\n",
            "[{'x': 176, 'y': 597, 'width': 151, 'height': 507, 'confidence': 0.9562504291534424, 'class': 'pipette', 'image_path': '/content/0161.png', 'prediction_type': 'ObjectDetectionModel'}]\n",
            "0161.png\n",
            "[{'x': 177, 'y': 611, 'width': 145, 'height': 477, 'confidence': 0.955560028553009, 'class': 'pipette', 'image_path': '/content/0162.png', 'prediction_type': 'ObjectDetectionModel'}]\n",
            "0162.png\n",
            "[{'x': 183, 'y': 623, 'width': 157, 'height': 455, 'confidence': 0.9548816084861755, 'class': 'pipette', 'image_path': '/content/0163.png', 'prediction_type': 'ObjectDetectionModel'}]\n",
            "0163.png\n",
            "[{'x': 180, 'y': 632, 'width': 140, 'height': 436, 'confidence': 0.9561278820037842, 'class': 'pipette', 'image_path': '/content/0164.png', 'prediction_type': 'ObjectDetectionModel'}]\n",
            "0164.png\n",
            "[{'x': 175, 'y': 641, 'width': 138, 'height': 420, 'confidence': 0.9452531337738037, 'class': 'pipette', 'image_path': '/content/0165.png', 'prediction_type': 'ObjectDetectionModel'}]\n",
            "0165.png\n",
            "[{'x': 173, 'y': 644, 'width': 137, 'height': 410, 'confidence': 0.9311366677284241, 'class': 'pipette', 'image_path': '/content/0166.png', 'prediction_type': 'ObjectDetectionModel'}]\n",
            "0166.png\n",
            "[{'x': 172, 'y': 644, 'width': 141, 'height': 408, 'confidence': 0.9343243837356567, 'class': 'pipette', 'image_path': '/content/0167.png', 'prediction_type': 'ObjectDetectionModel'}]\n",
            "0167.png\n",
            "[{'x': 169, 'y': 644, 'width': 143, 'height': 411, 'confidence': 0.9345275163650513, 'class': 'pipette', 'image_path': '/content/0168.png', 'prediction_type': 'ObjectDetectionModel'}]\n",
            "0168.png\n",
            "[{'x': 165, 'y': 639, 'width': 145, 'height': 423, 'confidence': 0.9417083263397217, 'class': 'pipette', 'image_path': '/content/0169.png', 'prediction_type': 'ObjectDetectionModel'}]\n",
            "0169.png\n",
            "[{'x': 158, 'y': 625, 'width': 144, 'height': 422, 'confidence': 0.9604952335357666, 'class': 'pipette', 'image_path': '/content/0170.png', 'prediction_type': 'ObjectDetectionModel'}]\n",
            "0170.png\n",
            "[{'x': 159, 'y': 612, 'width': 141, 'height': 426, 'confidence': 0.9614892601966858, 'class': 'pipette', 'image_path': '/content/0171.png', 'prediction_type': 'ObjectDetectionModel'}]\n",
            "0171.png\n",
            "[{'x': 160, 'y': 604, 'width': 131, 'height': 423, 'confidence': 0.9556064605712891, 'class': 'pipette', 'image_path': '/content/0172.png', 'prediction_type': 'ObjectDetectionModel'}]\n",
            "0172.png\n",
            "[{'x': 161, 'y': 595, 'width': 111, 'height': 419, 'confidence': 0.9551104307174683, 'class': 'pipette', 'image_path': '/content/0173.png', 'prediction_type': 'ObjectDetectionModel'}]\n",
            "0173.png\n",
            "[{'x': 162, 'y': 587, 'width': 105, 'height': 412, 'confidence': 0.9586725234985352, 'class': 'pipette', 'image_path': '/content/0174.png', 'prediction_type': 'ObjectDetectionModel'}]\n",
            "0174.png\n",
            "[{'x': 162, 'y': 579, 'width': 106, 'height': 415, 'confidence': 0.9543106555938721, 'class': 'pipette', 'image_path': '/content/0175.png', 'prediction_type': 'ObjectDetectionModel'}]\n",
            "0175.png\n",
            "[{'x': 162, 'y': 572, 'width': 106, 'height': 415, 'confidence': 0.9581467509269714, 'class': 'pipette', 'image_path': '/content/0176.png', 'prediction_type': 'ObjectDetectionModel'}]\n",
            "0176.png\n",
            "[{'x': 162, 'y': 563, 'width': 103, 'height': 414, 'confidence': 0.9457637071609497, 'class': 'pipette', 'image_path': '/content/0177.png', 'prediction_type': 'ObjectDetectionModel'}]\n",
            "0177.png\n",
            "[{'x': 159, 'y': 558, 'width': 87, 'height': 414, 'confidence': 0.9397239685058594, 'class': 'pipette', 'image_path': '/content/0178.png', 'prediction_type': 'ObjectDetectionModel'}]\n",
            "0178.png\n",
            "[{'x': 161, 'y': 553, 'width': 81, 'height': 414, 'confidence': 0.9473713636398315, 'class': 'pipette', 'image_path': '/content/0179.png', 'prediction_type': 'ObjectDetectionModel'}, {'x': 301, 'y': 832, 'width': 78, 'height': 35, 'confidence': 0.6135172247886658, 'class': 'pipette', 'image_path': '/content/0179.png', 'prediction_type': 'ObjectDetectionModel'}]\n",
            "0179.png\n",
            "[{'x': 167, 'y': 547, 'width': 81, 'height': 415, 'confidence': 0.9354192018508911, 'class': 'pipette', 'image_path': '/content/0180.png', 'prediction_type': 'ObjectDetectionModel'}, {'x': 309, 'y': 830, 'width': 82, 'height': 42, 'confidence': 0.6686512231826782, 'class': 'pipette', 'image_path': '/content/0180.png', 'prediction_type': 'ObjectDetectionModel'}]\n",
            "0180.png\n",
            "[{'x': 178, 'y': 590, 'width': 77, 'height': 312, 'confidence': 0.940447211265564, 'class': 'pipette', 'image_path': '/content/0181.png', 'prediction_type': 'ObjectDetectionModel'}, {'x': 165, 'y': 354, 'width': 36, 'height': 37, 'confidence': 0.8781338930130005, 'class': 'pipette', 'image_path': '/content/0181.png', 'prediction_type': 'ObjectDetectionModel'}, {'x': 193, 'y': 395, 'width': 34, 'height': 45, 'confidence': 0.793890118598938, 'class': 'pipette', 'image_path': '/content/0181.png', 'prediction_type': 'ObjectDetectionModel'}]\n",
            "0181.png\n",
            "[{'x': 189, 'y': 616, 'width': 66, 'height': 255, 'confidence': 0.9208530187606812, 'class': 'pipette', 'image_path': '/content/0182.png', 'prediction_type': 'ObjectDetectionModel'}, {'x': 183, 'y': 366, 'width': 63, 'height': 67, 'confidence': 0.8559839725494385, 'class': 'pipette', 'image_path': '/content/0182.png', 'prediction_type': 'ObjectDetectionModel'}, {'x': 177, 'y': 445, 'width': 49, 'height': 18, 'confidence': 0.4412899613380432, 'class': 'pipette', 'image_path': '/content/0182.png', 'prediction_type': 'ObjectDetectionModel'}, {'x': 321, 'y': 824, 'width': 82, 'height': 54, 'confidence': 0.43786129355430603, 'class': 'pipette', 'image_path': '/content/0182.png', 'prediction_type': 'ObjectDetectionModel'}]\n",
            "0182.png\n",
            "[{'x': 193, 'y': 625, 'width': 65, 'height': 230, 'confidence': 0.9327172636985779, 'class': 'pipette', 'image_path': '/content/0183.png', 'prediction_type': 'ObjectDetectionModel'}, {'x': 189, 'y': 364, 'width': 63, 'height': 67, 'confidence': 0.8918651342391968, 'class': 'pipette', 'image_path': '/content/0183.png', 'prediction_type': 'ObjectDetectionModel'}]\n",
            "0183.png\n",
            "[{'x': 197, 'y': 626, 'width': 65, 'height': 222, 'confidence': 0.9305983781814575, 'class': 'pipette', 'image_path': '/content/0184.png', 'prediction_type': 'ObjectDetectionModel'}, {'x': 192, 'y': 363, 'width': 63, 'height': 69, 'confidence': 0.8726134300231934, 'class': 'pipette', 'image_path': '/content/0184.png', 'prediction_type': 'ObjectDetectionModel'}]\n",
            "0184.png\n",
            "[{'x': 200, 'y': 625, 'width': 62, 'height': 220, 'confidence': 0.9198888540267944, 'class': 'pipette', 'image_path': '/content/0185.png', 'prediction_type': 'ObjectDetectionModel'}, {'x': 195, 'y': 364, 'width': 63, 'height': 75, 'confidence': 0.8721823692321777, 'class': 'pipette', 'image_path': '/content/0185.png', 'prediction_type': 'ObjectDetectionModel'}, {'x': 201, 'y': 477, 'width': 30, 'height': 11, 'confidence': 0.7326493859291077, 'class': 'pipette', 'image_path': '/content/0185.png', 'prediction_type': 'ObjectDetectionModel'}]\n",
            "0185.png\n",
            "[{'x': 198, 'y': 626, 'width': 60, 'height': 219, 'confidence': 0.906367301940918, 'class': 'pipette', 'image_path': '/content/0186.png', 'prediction_type': 'ObjectDetectionModel'}, {'x': 200, 'y': 362, 'width': 63, 'height': 78, 'confidence': 0.892632007598877, 'class': 'pipette', 'image_path': '/content/0186.png', 'prediction_type': 'ObjectDetectionModel'}, {'x': 200, 'y': 475, 'width': 35, 'height': 14, 'confidence': 0.7332472801208496, 'class': 'pipette', 'image_path': '/content/0186.png', 'prediction_type': 'ObjectDetectionModel'}]\n",
            "0186.png\n",
            "[{'x': 196, 'y': 626, 'width': 58, 'height': 222, 'confidence': 0.9025810956954956, 'class': 'pipette', 'image_path': '/content/0187.png', 'prediction_type': 'ObjectDetectionModel'}, {'x': 200, 'y': 361, 'width': 63, 'height': 78, 'confidence': 0.8928084969520569, 'class': 'pipette', 'image_path': '/content/0187.png', 'prediction_type': 'ObjectDetectionModel'}, {'x': 200, 'y': 473, 'width': 34, 'height': 15, 'confidence': 0.6495627164840698, 'class': 'pipette', 'image_path': '/content/0187.png', 'prediction_type': 'ObjectDetectionModel'}]\n",
            "0187.png\n",
            "[{'x': 195, 'y': 627, 'width': 59, 'height': 223, 'confidence': 0.9090820550918579, 'class': 'pipette', 'image_path': '/content/0188.png', 'prediction_type': 'ObjectDetectionModel'}, {'x': 198, 'y': 359, 'width': 63, 'height': 74, 'confidence': 0.8708277940750122, 'class': 'pipette', 'image_path': '/content/0188.png', 'prediction_type': 'ObjectDetectionModel'}, {'x': 199, 'y': 473, 'width': 33, 'height': 14, 'confidence': 0.5931578278541565, 'class': 'pipette', 'image_path': '/content/0188.png', 'prediction_type': 'ObjectDetectionModel'}, {'x': 333, 'y': 823, 'width': 87, 'height': 57, 'confidence': 0.4164447784423828, 'class': 'pipette', 'image_path': '/content/0188.png', 'prediction_type': 'ObjectDetectionModel'}]\n",
            "0188.png\n",
            "[{'x': 193, 'y': 625, 'width': 58, 'height': 228, 'confidence': 0.9223655462265015, 'class': 'pipette', 'image_path': '/content/0189.png', 'prediction_type': 'ObjectDetectionModel'}, {'x': 193, 'y': 352, 'width': 63, 'height': 71, 'confidence': 0.8698267936706543, 'class': 'pipette', 'image_path': '/content/0189.png', 'prediction_type': 'ObjectDetectionModel'}, {'x': 331, 'y': 824, 'width': 86, 'height': 54, 'confidence': 0.5417428016662598, 'class': 'pipette', 'image_path': '/content/0189.png', 'prediction_type': 'ObjectDetectionModel'}]\n",
            "0189.png\n",
            "[{'x': 209, 'y': 620, 'width': 79, 'height': 226, 'confidence': 0.9271714687347412, 'class': 'pipette', 'image_path': '/content/0190.png', 'prediction_type': 'ObjectDetectionModel'}, {'x': 178, 'y': 349, 'width': 65, 'height': 78, 'confidence': 0.9089919328689575, 'class': 'pipette', 'image_path': '/content/0190.png', 'prediction_type': 'ObjectDetectionModel'}, {'x': 198, 'y': 465, 'width': 27, 'height': 13, 'confidence': 0.6739962100982666, 'class': 'pipette', 'image_path': '/content/0190.png', 'prediction_type': 'ObjectDetectionModel'}, {'x': 331, 'y': 824, 'width': 86, 'height': 54, 'confidence': 0.6399490833282471, 'class': 'pipette', 'image_path': '/content/0190.png', 'prediction_type': 'ObjectDetectionModel'}]\n",
            "0190.png\n",
            "[{'x': 208, 'y': 624, 'width': 71, 'height': 226, 'confidence': 0.9240533113479614, 'class': 'pipette', 'image_path': '/content/0191.png', 'prediction_type': 'ObjectDetectionModel'}, {'x': 182, 'y': 368, 'width': 64, 'height': 119, 'confidence': 0.9206331968307495, 'class': 'pipette', 'image_path': '/content/0191.png', 'prediction_type': 'ObjectDetectionModel'}, {'x': 331, 'y': 825, 'width': 86, 'height': 53, 'confidence': 0.6692038774490356, 'class': 'pipette', 'image_path': '/content/0191.png', 'prediction_type': 'ObjectDetectionModel'}]\n",
            "0191.png\n",
            "[{'x': 202, 'y': 629, 'width': 43, 'height': 230, 'confidence': 0.9272308349609375, 'class': 'pipette', 'image_path': '/content/0192.png', 'prediction_type': 'ObjectDetectionModel'}, {'x': 194, 'y': 366, 'width': 55, 'height': 122, 'confidence': 0.924135684967041, 'class': 'pipette', 'image_path': '/content/0192.png', 'prediction_type': 'ObjectDetectionModel'}, {'x': 332, 'y': 825, 'width': 85, 'height': 53, 'confidence': 0.7096881866455078, 'class': 'pipette', 'image_path': '/content/0192.png', 'prediction_type': 'ObjectDetectionModel'}]\n",
            "0192.png\n",
            "[{'x': 198, 'y': 635, 'width': 41, 'height': 234, 'confidence': 0.9226487874984741, 'class': 'pipette', 'image_path': '/content/0193.png', 'prediction_type': 'ObjectDetectionModel'}, {'x': 206, 'y': 370, 'width': 47, 'height': 125, 'confidence': 0.9063913822174072, 'class': 'pipette', 'image_path': '/content/0193.png', 'prediction_type': 'ObjectDetectionModel'}, {'x': 334, 'y': 825, 'width': 87, 'height': 53, 'confidence': 0.6544387340545654, 'class': 'pipette', 'image_path': '/content/0193.png', 'prediction_type': 'ObjectDetectionModel'}]\n",
            "0193.png\n",
            "[{'x': 196, 'y': 639, 'width': 42, 'height': 239, 'confidence': 0.9313269257545471, 'class': 'pipette', 'image_path': '/content/0194.png', 'prediction_type': 'ObjectDetectionModel'}, {'x': 187, 'y': 372, 'width': 45, 'height': 126, 'confidence': 0.9059500694274902, 'class': 'pipette', 'image_path': '/content/0194.png', 'prediction_type': 'ObjectDetectionModel'}, {'x': 333, 'y': 825, 'width': 79, 'height': 53, 'confidence': 0.48619550466537476, 'class': 'pipette', 'image_path': '/content/0194.png', 'prediction_type': 'ObjectDetectionModel'}]\n",
            "0194.png\n",
            "[{'x': 201, 'y': 637, 'width': 54, 'height': 240, 'confidence': 0.9288268089294434, 'class': 'pipette', 'image_path': '/content/0195.png', 'prediction_type': 'ObjectDetectionModel'}, {'x': 174, 'y': 372, 'width': 54, 'height': 126, 'confidence': 0.816737174987793, 'class': 'pipette', 'image_path': '/content/0195.png', 'prediction_type': 'ObjectDetectionModel'}, {'x': 340, 'y': 824, 'width': 87, 'height': 51, 'confidence': 0.5231723189353943, 'class': 'pipette', 'image_path': '/content/0195.png', 'prediction_type': 'ObjectDetectionModel'}]\n",
            "0195.png\n",
            "[{'x': 224, 'y': 631, 'width': 86, 'height': 242, 'confidence': 0.9468284249305725, 'class': 'pipette', 'image_path': '/content/0196.png', 'prediction_type': 'ObjectDetectionModel'}, {'x': 162, 'y': 389, 'width': 62, 'height': 89, 'confidence': 0.8468655347824097, 'class': 'pipette', 'image_path': '/content/0196.png', 'prediction_type': 'ObjectDetectionModel'}, {'x': 342, 'y': 825, 'width': 86, 'height': 53, 'confidence': 0.5030861496925354, 'class': 'pipette', 'image_path': '/content/0196.png', 'prediction_type': 'ObjectDetectionModel'}]\n",
            "0196.png\n",
            "[{'x': 215, 'y': 631, 'width': 74, 'height': 243, 'confidence': 0.9293310046195984, 'class': 'pipette', 'image_path': '/content/0197.png', 'prediction_type': 'ObjectDetectionModel'}, {'x': 169, 'y': 388, 'width': 59, 'height': 91, 'confidence': 0.7795614004135132, 'class': 'pipette', 'image_path': '/content/0197.png', 'prediction_type': 'ObjectDetectionModel'}, {'x': 345, 'y': 824, 'width': 86, 'height': 54, 'confidence': 0.49201998114585876, 'class': 'pipette', 'image_path': '/content/0197.png', 'prediction_type': 'ObjectDetectionModel'}, {'x': 157, 'y': 324, 'width': 37, 'height': 35, 'confidence': 0.4629766345024109, 'class': 'pipette', 'image_path': '/content/0197.png', 'prediction_type': 'ObjectDetectionModel'}]\n",
            "0197.png\n",
            "[{'x': 201, 'y': 632, 'width': 66, 'height': 244, 'confidence': 0.9310129880905151, 'class': 'pipette', 'image_path': '/content/0198.png', 'prediction_type': 'ObjectDetectionModel'}, {'x': 163, 'y': 389, 'width': 68, 'height': 89, 'confidence': 0.8498833179473877, 'class': 'pipette', 'image_path': '/content/0198.png', 'prediction_type': 'ObjectDetectionModel'}, {'x': 153, 'y': 326, 'width': 39, 'height': 37, 'confidence': 0.6398927569389343, 'class': 'pipette', 'image_path': '/content/0198.png', 'prediction_type': 'ObjectDetectionModel'}]\n",
            "0198.png\n",
            "[{'x': 208, 'y': 631, 'width': 79, 'height': 244, 'confidence': 0.9374228715896606, 'class': 'pipette', 'image_path': '/content/0199.png', 'prediction_type': 'ObjectDetectionModel'}, {'x': 154, 'y': 368, 'width': 76, 'height': 122, 'confidence': 0.9295785427093506, 'class': 'pipette', 'image_path': '/content/0199.png', 'prediction_type': 'ObjectDetectionModel'}, {'x': 175, 'y': 476, 'width': 23, 'height': 10, 'confidence': 0.441156268119812, 'class': 'pipette', 'image_path': '/content/0199.png', 'prediction_type': 'ObjectDetectionModel'}]\n",
            "0199.png\n",
            "[{'x': 219, 'y': 627, 'width': 90, 'height': 239, 'confidence': 0.9407044649124146, 'class': 'pipette', 'image_path': '/content/0200.png', 'prediction_type': 'ObjectDetectionModel'}, {'x': 152, 'y': 367, 'width': 82, 'height': 117, 'confidence': 0.9281176328659058, 'class': 'pipette', 'image_path': '/content/0200.png', 'prediction_type': 'ObjectDetectionModel'}]\n",
            "0200.png\n",
            "[{'x': 163, 'y': 368, 'width': 92, 'height': 114, 'confidence': 0.919439435005188, 'class': 'pipette', 'image_path': '/content/0201.png', 'prediction_type': 'ObjectDetectionModel'}, {'x': 202, 'y': 606, 'width': 66, 'height': 288, 'confidence': 0.9194236993789673, 'class': 'pipette', 'image_path': '/content/0201.png', 'prediction_type': 'ObjectDetectionModel'}]\n",
            "0201.png\n",
            "[{'x': 175, 'y': 367, 'width': 86, 'height': 119, 'confidence': 0.9261401891708374, 'class': 'pipette', 'image_path': '/content/0202.png', 'prediction_type': 'ObjectDetectionModel'}, {'x': 196, 'y': 603, 'width': 54, 'height': 292, 'confidence': 0.9104924201965332, 'class': 'pipette', 'image_path': '/content/0202.png', 'prediction_type': 'ObjectDetectionModel'}]\n",
            "0202.png\n",
            "[{'x': 201, 'y': 601, 'width': 54, 'height': 296, 'confidence': 0.9390090703964233, 'class': 'pipette', 'image_path': '/content/0203.png', 'prediction_type': 'ObjectDetectionModel'}, {'x': 179, 'y': 365, 'width': 87, 'height': 121, 'confidence': 0.913924515247345, 'class': 'pipette', 'image_path': '/content/0203.png', 'prediction_type': 'ObjectDetectionModel'}]\n",
            "0203.png\n",
            "[{'x': 203, 'y': 598, 'width': 54, 'height': 294, 'confidence': 0.9336270093917847, 'class': 'pipette', 'image_path': '/content/0204.png', 'prediction_type': 'ObjectDetectionModel'}, {'x': 180, 'y': 364, 'width': 88, 'height': 121, 'confidence': 0.9118852019309998, 'class': 'pipette', 'image_path': '/content/0204.png', 'prediction_type': 'ObjectDetectionModel'}]\n",
            "0204.png\n",
            "[{'x': 203, 'y': 599, 'width': 54, 'height': 292, 'confidence': 0.922258198261261, 'class': 'pipette', 'image_path': '/content/0205.png', 'prediction_type': 'ObjectDetectionModel'}, {'x': 178, 'y': 360, 'width': 89, 'height': 117, 'confidence': 0.9089746475219727, 'class': 'pipette', 'image_path': '/content/0205.png', 'prediction_type': 'ObjectDetectionModel'}]\n",
            "0205.png\n",
            "[{'x': 201, 'y': 600, 'width': 60, 'height': 282, 'confidence': 0.9386296272277832, 'class': 'pipette', 'image_path': '/content/0206.png', 'prediction_type': 'ObjectDetectionModel'}, {'x': 177, 'y': 344, 'width': 85, 'height': 83, 'confidence': 0.4767472445964813, 'class': 'pipette', 'image_path': '/content/0206.png', 'prediction_type': 'ObjectDetectionModel'}]\n",
            "0206.png\n",
            "[{'x': 200, 'y': 583, 'width': 64, 'height': 318, 'confidence': 0.9320109486579895, 'class': 'pipette', 'image_path': '/content/0207.png', 'prediction_type': 'ObjectDetectionModel'}, {'x': 171, 'y': 311, 'width': 38, 'height': 23, 'confidence': 0.7747083902359009, 'class': 'pipette', 'image_path': '/content/0207.png', 'prediction_type': 'ObjectDetectionModel'}]\n",
            "0207.png\n",
            "[{'x': 201, 'y': 581, 'width': 64, 'height': 319, 'confidence': 0.9417949318885803, 'class': 'pipette', 'image_path': '/content/0208.png', 'prediction_type': 'ObjectDetectionModel'}, {'x': 209, 'y': 384, 'width': 27, 'height': 14, 'confidence': 0.5562981367111206, 'class': 'pipette', 'image_path': '/content/0208.png', 'prediction_type': 'ObjectDetectionModel'}]\n",
            "0208.png\n",
            "[{'x': 204, 'y': 582, 'width': 61, 'height': 315, 'confidence': 0.9343209266662598, 'class': 'pipette', 'image_path': '/content/0209.png', 'prediction_type': 'ObjectDetectionModel'}]\n",
            "0209.png\n",
            "[{'x': 207, 'y': 581, 'width': 66, 'height': 315, 'confidence': 0.910245418548584, 'class': 'pipette', 'image_path': '/content/0210.png', 'prediction_type': 'ObjectDetectionModel'}]\n",
            "0210.png\n",
            "[{'x': 224, 'y': 583, 'width': 104, 'height': 306, 'confidence': 0.9446151852607727, 'class': 'pipette', 'image_path': '/content/0211.png', 'prediction_type': 'ObjectDetectionModel'}]\n",
            "0211.png\n",
            "[{'x': 255, 'y': 561, 'width': 156, 'height': 294, 'confidence': 0.9604196548461914, 'class': 'pipette', 'image_path': '/content/0212.png', 'prediction_type': 'ObjectDetectionModel'}, {'x': 336, 'y': 816, 'width': 48, 'height': 70, 'confidence': 0.6156886219978333, 'class': 'pipette', 'image_path': '/content/0212.png', 'prediction_type': 'ObjectDetectionModel'}]\n",
            "0212.png\n",
            "[{'x': 283, 'y': 543, 'width': 210, 'height': 235, 'confidence': 0.9497910737991333, 'class': 'pipette', 'image_path': '/content/0213.png', 'prediction_type': 'ObjectDetectionModel'}, {'x': 337, 'y': 815, 'width': 50, 'height': 73, 'confidence': 0.4621427059173584, 'class': 'pipette', 'image_path': '/content/0213.png', 'prediction_type': 'ObjectDetectionModel'}]\n",
            "0213.png\n",
            "[{'x': 301, 'y': 520, 'width': 246, 'height': 178, 'confidence': 0.9291196465492249, 'class': 'pipette', 'image_path': '/content/0214.png', 'prediction_type': 'ObjectDetectionModel'}, {'x': 338, 'y': 814, 'width': 51, 'height': 74, 'confidence': 0.4483892321586609, 'class': 'pipette', 'image_path': '/content/0214.png', 'prediction_type': 'ObjectDetectionModel'}]\n",
            "0214.png\n",
            "[{'x': 292, 'y': 505, 'width': 291, 'height': 126, 'confidence': 0.8891245126724243, 'class': 'pipette', 'image_path': '/content/0215.png', 'prediction_type': 'ObjectDetectionModel'}]\n",
            "0215.png\n",
            "[{'x': 309, 'y': 489, 'width': 262, 'height': 87, 'confidence': 0.8226374387741089, 'class': 'pipette', 'image_path': '/content/0216.png', 'prediction_type': 'ObjectDetectionModel'}]\n",
            "0216.png\n",
            "[{'x': 307, 'y': 479, 'width': 255, 'height': 54, 'confidence': 0.7344532608985901, 'class': 'pipette', 'image_path': '/content/0217.png', 'prediction_type': 'ObjectDetectionModel'}]\n",
            "0217.png\n",
            "[{'x': 286, 'y': 446, 'width': 216, 'height': 129, 'confidence': 0.8219110369682312, 'class': 'pipette', 'image_path': '/content/0218.png', 'prediction_type': 'ObjectDetectionModel'}]\n",
            "0218.png\n",
            "[{'x': 264, 'y': 422, 'width': 162, 'height': 165, 'confidence': 0.8961452841758728, 'class': 'pipette', 'image_path': '/content/0219.png', 'prediction_type': 'ObjectDetectionModel'}]\n",
            "0219.png\n",
            "[{'x': 242, 'y': 408, 'width': 125, 'height': 185, 'confidence': 0.9440020322799683, 'class': 'pipette', 'image_path': '/content/0220.png', 'prediction_type': 'ObjectDetectionModel'}, {'x': 144, 'y': 601, 'width': 120, 'height': 165, 'confidence': 0.9245693683624268, 'class': 'pipette', 'image_path': '/content/0220.png', 'prediction_type': 'ObjectDetectionModel'}]\n",
            "0220.png\n",
            "[{'x': 167, 'y': 607, 'width': 95, 'height': 179, 'confidence': 0.9507703185081482, 'class': 'pipette', 'image_path': '/content/0221.png', 'prediction_type': 'ObjectDetectionModel'}, {'x': 228, 'y': 397, 'width': 92, 'height': 195, 'confidence': 0.9499675035476685, 'class': 'pipette', 'image_path': '/content/0221.png', 'prediction_type': 'ObjectDetectionModel'}, {'x': 334, 'y': 812, 'width': 54, 'height': 79, 'confidence': 0.4232969284057617, 'class': 'pipette', 'image_path': '/content/0221.png', 'prediction_type': 'ObjectDetectionModel'}]\n",
            "0221.png\n",
            "[{'x': 216, 'y': 390, 'width': 63, 'height': 202, 'confidence': 0.9371517300605774, 'class': 'pipette', 'image_path': '/content/0222.png', 'prediction_type': 'ObjectDetectionModel'}, {'x': 190, 'y': 610, 'width': 92, 'height': 187, 'confidence': 0.9250580072402954, 'class': 'pipette', 'image_path': '/content/0222.png', 'prediction_type': 'ObjectDetectionModel'}]\n",
            "0222.png\n",
            "[{'x': 212, 'y': 608, 'width': 97, 'height': 189, 'confidence': 0.9410923719406128, 'class': 'pipette', 'image_path': '/content/0223.png', 'prediction_type': 'ObjectDetectionModel'}, {'x': 209, 'y': 384, 'width': 49, 'height': 205, 'confidence': 0.9234890937805176, 'class': 'pipette', 'image_path': '/content/0223.png', 'prediction_type': 'ObjectDetectionModel'}]\n",
            "0223.png\n",
            "[{'x': 224, 'y': 607, 'width': 99, 'height': 187, 'confidence': 0.9396297931671143, 'class': 'pipette', 'image_path': '/content/0224.png', 'prediction_type': 'ObjectDetectionModel'}, {'x': 210, 'y': 380, 'width': 50, 'height': 205, 'confidence': 0.9243202209472656, 'class': 'pipette', 'image_path': '/content/0224.png', 'prediction_type': 'ObjectDetectionModel'}]\n",
            "0224.png\n",
            "[{'x': 231, 'y': 603, 'width': 102, 'height': 187, 'confidence': 0.9452794790267944, 'class': 'pipette', 'image_path': '/content/0225.png', 'prediction_type': 'ObjectDetectionModel'}, {'x': 210, 'y': 376, 'width': 54, 'height': 205, 'confidence': 0.9254939556121826, 'class': 'pipette', 'image_path': '/content/0225.png', 'prediction_type': 'ObjectDetectionModel'}]\n",
            "0225.png\n",
            "[{'x': 233, 'y': 603, 'width': 103, 'height': 186, 'confidence': 0.9438056945800781, 'class': 'pipette', 'image_path': '/content/0226.png', 'prediction_type': 'ObjectDetectionModel'}, {'x': 211, 'y': 376, 'width': 53, 'height': 203, 'confidence': 0.9226759672164917, 'class': 'pipette', 'image_path': '/content/0226.png', 'prediction_type': 'ObjectDetectionModel'}]\n",
            "0226.png\n",
            "[{'x': 235, 'y': 601, 'width': 104, 'height': 186, 'confidence': 0.9440566301345825, 'class': 'pipette', 'image_path': '/content/0227.png', 'prediction_type': 'ObjectDetectionModel'}, {'x': 211, 'y': 374, 'width': 53, 'height': 203, 'confidence': 0.9220448136329651, 'class': 'pipette', 'image_path': '/content/0227.png', 'prediction_type': 'ObjectDetectionModel'}]\n",
            "0227.png\n",
            "[{'x': 237, 'y': 599, 'width': 103, 'height': 185, 'confidence': 0.9434431195259094, 'class': 'pipette', 'image_path': '/content/0228.png', 'prediction_type': 'ObjectDetectionModel'}, {'x': 212, 'y': 373, 'width': 55, 'height': 206, 'confidence': 0.9194455146789551, 'class': 'pipette', 'image_path': '/content/0228.png', 'prediction_type': 'ObjectDetectionModel'}]\n",
            "0228.png\n",
            "[{'x': 238, 'y': 596, 'width': 105, 'height': 189, 'confidence': 0.9385296702384949, 'class': 'pipette', 'image_path': '/content/0229.png', 'prediction_type': 'ObjectDetectionModel'}, {'x': 212, 'y': 369, 'width': 56, 'height': 198, 'confidence': 0.9337890148162842, 'class': 'pipette', 'image_path': '/content/0229.png', 'prediction_type': 'ObjectDetectionModel'}]\n",
            "0229.png\n",
            "[{'x': 237, 'y': 572, 'width': 107, 'height': 236, 'confidence': 0.9494463205337524, 'class': 'pipette', 'image_path': '/content/0230.png', 'prediction_type': 'ObjectDetectionModel'}, {'x': 209, 'y': 350, 'width': 43, 'height': 161, 'confidence': 0.9110722541809082, 'class': 'pipette', 'image_path': '/content/0230.png', 'prediction_type': 'ObjectDetectionModel'}]\n",
            "0230.png\n"
          ]
        }
      ],
      "source": [
        "# perform inference on each image from the split up video\n",
        "import PIL.Image\n",
        "# %cd /content/inferred_videos\n",
        "!pwd\n",
        "# glob config values\n",
        "# file_path = \"/content/inferred_videos/\"\n",
        "# file_path = \"/content/videos_to_infer/\"\n",
        "file_path = \"/content/\"\n",
        "extention = \"png\"\n",
        "\n",
        "# glob files based on location and file format\n",
        "globbed_files = sorted(glob.glob(file_path + '*' + extention))\n",
        "print(globbed_files)\n",
        "\n",
        "for image in globbed_files:\n",
        "  # INFERENCE\n",
        "  predictions = model.predict(image).json()['predictions']\n",
        "  newly_rendered_image = PIL.Image.open(image)\n",
        "\n",
        "  # RENDER \n",
        "  # for each detection, create a crop and convert into CLIP encoding\n",
        "  print(predictions)\n",
        "  for prediction in predictions:\n",
        "      # rip bounding box coordinates from current detection\n",
        "      # note: infer returns center points of box as (x,y) and width, height\n",
        "      # ----- but pillow crop requires the top left and bottom right points to crop\n",
        "      x0 = prediction['x'] - prediction['width'] / 2\n",
        "      x1 = prediction['x'] + prediction['width'] / 2\n",
        "      y0 = prediction['y'] - prediction['height'] / 2\n",
        "      y1 = prediction['y'] + prediction['height'] / 2\n",
        "      box = (x0, y0, x1, y1)\n",
        "  \n",
        "      newly_rendered_image = draw_boxes(box, x0, y0, newly_rendered_image, 'pipette', prediction['confidence'])\n",
        "\n",
        "  # WRITE\n",
        "  save_with_bbox_renders(newly_rendered_image)"
      ]
    },
    {
      "cell_type": "markdown",
      "source": [
        "You must line up the starting file of your video (i.e. the image you want to start with) to the FFMPEG wildcard syntax.\n",
        "\n",
        "For example, if you video file is named `out0001.png` use `y%04d.png`.\n",
        "\n",
        "If your file is named `/content/inferred_videos/Pi_test_video.mov_out0001.png` use `/content/inferred_videos/Pi_test_video.mov_outy%04d.png`.\n",
        "\n"
      ],
      "metadata": {
        "id": "f_99RmVTzc67"
      }
    },
    {
      "cell_type": "code",
      "source": [
        "# stich images together into video\n",
        "!pwd\n",
        "!ffmpeg -r 23 -s 1920x1080 -i /content/inferred_videos/%04d.png -vcodec libx264  -pix_fmt yuv420p testDetectionHand.mp4"
      ],
      "metadata": {
        "id": "kByeRFIYlant",
        "colab": {
          "base_uri": "https://localhost:8080/"
        },
        "outputId": "790d4bc1-69a4-4e47-ba87-1db2a38bf945"
      },
      "execution_count": null,
      "outputs": [
        {
          "output_type": "stream",
          "name": "stdout",
          "text": [
            "/content\n",
            "ffmpeg version 4.2.7-0ubuntu0.1 Copyright (c) 2000-2022 the FFmpeg developers\n",
            "  built with gcc 9 (Ubuntu 9.4.0-1ubuntu1~20.04.1)\n",
            "  configuration: --prefix=/usr --extra-version=0ubuntu0.1 --toolchain=hardened --libdir=/usr/lib/x86_64-linux-gnu --incdir=/usr/include/x86_64-linux-gnu --arch=amd64 --enable-gpl --disable-stripping --enable-avresample --disable-filter=resample --enable-avisynth --enable-gnutls --enable-ladspa --enable-libaom --enable-libass --enable-libbluray --enable-libbs2b --enable-libcaca --enable-libcdio --enable-libcodec2 --enable-libflite --enable-libfontconfig --enable-libfreetype --enable-libfribidi --enable-libgme --enable-libgsm --enable-libjack --enable-libmp3lame --enable-libmysofa --enable-libopenjpeg --enable-libopenmpt --enable-libopus --enable-libpulse --enable-librsvg --enable-librubberband --enable-libshine --enable-libsnappy --enable-libsoxr --enable-libspeex --enable-libssh --enable-libtheora --enable-libtwolame --enable-libvidstab --enable-libvorbis --enable-libvpx --enable-libwavpack --enable-libwebp --enable-libx265 --enable-libxml2 --enable-libxvid --enable-libzmq --enable-libzvbi --enable-lv2 --enable-omx --enable-openal --enable-opencl --enable-opengl --enable-sdl2 --enable-libdc1394 --enable-libdrm --enable-libiec61883 --enable-nvenc --enable-chromaprint --enable-frei0r --enable-libx264 --enable-shared\n",
            "  libavutil      56. 31.100 / 56. 31.100\n",
            "  libavcodec     58. 54.100 / 58. 54.100\n",
            "  libavformat    58. 29.100 / 58. 29.100\n",
            "  libavdevice    58.  8.100 / 58.  8.100\n",
            "  libavfilter     7. 57.100 /  7. 57.100\n",
            "  libavresample   4.  0.  0 /  4.  0.  0\n",
            "  libswscale      5.  5.100 /  5.  5.100\n",
            "  libswresample   3.  5.100 /  3.  5.100\n",
            "  libpostproc    55.  5.100 / 55.  5.100\n",
            "Input #0, image2, from '/content/inferred_videos/%04d.png':\n",
            "  Duration: 00:00:09.20, start: 0.000000, bitrate: N/A\n",
            "    Stream #0:0: Video: png, rgb24(pc), 480x852, 25 fps, 25 tbr, 25 tbn, 25 tbc\n",
            "File 'testDetectionHand.mp4' already exists. Overwrite ? [y/N] y\n",
            "Stream mapping:\n",
            "  Stream #0:0 -> #0:0 (png (native) -> h264 (libx264))\n",
            "Press [q] to stop, [?] for help\n",
            "\u001b[1;36m[libx264 @ 0x55cc3a57db40] \u001b[0musing cpu capabilities: MMX2 SSE2Fast SSSE3 SSE4.2 AVX FMA3 BMI2 AVX2\n",
            "\u001b[1;36m[libx264 @ 0x55cc3a57db40] \u001b[0mprofile High, level 3.0\n",
            "\u001b[1;36m[libx264 @ 0x55cc3a57db40] \u001b[0m264 - core 155 r2917 0a84d98 - H.264/MPEG-4 AVC codec - Copyleft 2003-2018 - http://www.videolan.org/x264.html - options: cabac=1 ref=3 deblock=1:0:0 analyse=0x3:0x113 me=hex subme=7 psy=1 psy_rd=1.00:0.00 mixed_ref=1 me_range=16 chroma_me=1 trellis=1 8x8dct=1 cqm=0 deadzone=21,11 fast_pskip=1 chroma_qp_offset=-2 threads=3 lookahead_threads=1 sliced_threads=0 nr=0 decimate=1 interlaced=0 bluray_compat=0 constrained_intra=0 bframes=3 b_pyramid=2 b_adapt=1 b_bias=0 direct=1 weightb=1 open_gop=0 weightp=2 keyint=250 keyint_min=23 scenecut=40 intra_refresh=0 rc_lookahead=40 rc=crf mbtree=1 crf=23.0 qcomp=0.60 qpmin=0 qpmax=69 qpstep=4 ip_ratio=1.40 aq=1:1.00\n",
            "Output #0, mp4, to 'testDetectionHand.mp4':\n",
            "  Metadata:\n",
            "    encoder         : Lavf58.29.100\n",
            "    Stream #0:0: Video: h264 (libx264) (avc1 / 0x31637661), yuv420p, 480x852, q=-1--1, 23 fps, 11776 tbn, 23 tbc\n",
            "    Metadata:\n",
            "      encoder         : Lavc58.54.100 libx264\n",
            "    Side data:\n",
            "      cpb: bitrate max/min/avg: 0/0/0 buffer size: 0 vbv_delay: -1\n",
            "frame=  230 fps= 41 q=-1.0 Lsize=    1404kB time=00:00:09.86 bitrate=1165.5kbits/s speed=1.74x    \n",
            "video:1401kB audio:0kB subtitle:0kB other streams:0kB global headers:0kB muxing overhead: 0.248211%\n",
            "\u001b[1;36m[libx264 @ 0x55cc3a57db40] \u001b[0mframe I:2     Avg QP:22.04  size: 17830\n",
            "\u001b[1;36m[libx264 @ 0x55cc3a57db40] \u001b[0mframe P:65    Avg QP:23.50  size: 10649\n",
            "\u001b[1;36m[libx264 @ 0x55cc3a57db40] \u001b[0mframe B:163   Avg QP:24.94  size:  4329\n",
            "\u001b[1;36m[libx264 @ 0x55cc3a57db40] \u001b[0mconsecutive B-frames:  3.9%  2.6%  6.5% 87.0%\n",
            "\u001b[1;36m[libx264 @ 0x55cc3a57db40] \u001b[0mmb I  I16..4: 16.3% 58.7% 25.0%\n",
            "\u001b[1;36m[libx264 @ 0x55cc3a57db40] \u001b[0mmb P  I16..4:  6.8% 19.8%  5.6%  P16..4: 41.9% 10.8%  5.1%  0.0%  0.0%    skip:10.0%\n",
            "\u001b[1;36m[libx264 @ 0x55cc3a57db40] \u001b[0mmb B  I16..4:  1.7%  2.2%  0.9%  B16..8: 42.5%  6.7%  1.4%  direct: 2.8%  skip:41.8%  L0:45.6% L1:49.3% BI: 5.1%\n",
            "\u001b[1;36m[libx264 @ 0x55cc3a57db40] \u001b[0m8x8 transform intra:57.5% inter:81.7%\n",
            "\u001b[1;36m[libx264 @ 0x55cc3a57db40] \u001b[0mcoded y,uvDC,uvAC intra: 47.1% 59.7% 17.3% inter: 17.2% 25.5% 2.1%\n",
            "\u001b[1;36m[libx264 @ 0x55cc3a57db40] \u001b[0mi16 v,h,dc,p: 35% 21% 15% 28%\n",
            "\u001b[1;36m[libx264 @ 0x55cc3a57db40] \u001b[0mi8 v,h,dc,ddl,ddr,vr,hd,vl,hu: 21% 13% 25%  3%  7% 18%  5%  3%  4%\n",
            "\u001b[1;36m[libx264 @ 0x55cc3a57db40] \u001b[0mi4 v,h,dc,ddl,ddr,vr,hd,vl,hu: 34% 17% 14%  4%  7%  9%  7%  4%  4%\n",
            "\u001b[1;36m[libx264 @ 0x55cc3a57db40] \u001b[0mi8c dc,h,v,p: 45% 22% 30%  4%\n",
            "\u001b[1;36m[libx264 @ 0x55cc3a57db40] \u001b[0mWeighted P-Frames: Y:10.8% UV:3.1%\n",
            "\u001b[1;36m[libx264 @ 0x55cc3a57db40] \u001b[0mref P L0: 55.5% 18.0% 17.5%  8.4%  0.7%\n",
            "\u001b[1;36m[libx264 @ 0x55cc3a57db40] \u001b[0mref B L0: 89.2%  8.4%  2.5%\n",
            "\u001b[1;36m[libx264 @ 0x55cc3a57db40] \u001b[0mref B L1: 96.1%  3.9%\n",
            "\u001b[1;36m[libx264 @ 0x55cc3a57db40] \u001b[0mkb/s:1146.86\n"
          ]
        }
      ]
    },
    {
      "cell_type": "markdown",
      "source": [
        "- TODO: add garbage collector instructions here for repeat testing"
      ],
      "metadata": {
        "id": "Pdf500q3zkBv"
      }
    },
    {
      "cell_type": "code",
      "source": [
        "# CAUTION - deletes all data from the `inferred_videos` and `videos_to_infer` directories\n",
        "# use this code block between runs for a fresh start between videos.\n",
        "%cd /content/\n",
        "!rm -r inferred_videos\n",
        "!rm -r videos_to_infer\n",
        "!mkdir inferred_videos\n",
        "!mkdir videos_to_infer"
      ],
      "metadata": {
        "id": "ojgPEUh4vdCI",
        "colab": {
          "base_uri": "https://localhost:8080/"
        },
        "outputId": "224ca2fb-8b49-4b93-ee26-1ed1610642a7"
      },
      "execution_count": null,
      "outputs": [
        {
          "output_type": "stream",
          "name": "stdout",
          "text": [
            "/content\n"
          ]
        }
      ]
    },
    {
      "cell_type": "markdown",
      "source": [
        "\n",
        "- TODO - util features such as print list of all unique classe?\n",
        "- TODO - update docs in notebooks\n",
        "- TODO - update test cases"
      ],
      "metadata": {
        "id": "ed_3963djk3w"
      }
    },
    {
      "cell_type": "markdown",
      "metadata": {
        "id": "GJZeiSo_TaSb"
      },
      "source": [
        "# Tested Cases\n",
        "\n",
        "- no images exist\n",
        "- image has no detections\n",
        "- image has no target_detection instance\n",
        "- image has less object count\n",
        "- image has less class count\n",
        "- prediction falls into confidence range\n",
        "- prediction outside of confidence range\n",
        "- prediction has less than box req\n",
        "- prediction has greater than box req\n",
        "- prediction doesn't match target_detection name\n",
        "- first prediction meets requirements for upload\n",
        "- last prediction meets requirements for upload\n",
        "- all similarities match too high, even when images look drastically different"
      ]
    }
  ],
  "metadata": {
    "colab": {
      "provenance": []
    },
    "kernelspec": {
      "display_name": "Python 3",
      "name": "python3"
    },
    "language_info": {
      "name": "python"
    }
  },
  "nbformat": 4,
  "nbformat_minor": 0
}